{
 "cells": [
  {
   "cell_type": "markdown",
   "metadata": {
    "slideshow": {
     "slide_type": "slide"
    }
   },
   "source": [
    "# Jupyter notebook の基本\n",
    "注意) Google Colaboratoryは似ているが少し違う"
   ]
  },
  {
   "cell_type": "markdown",
   "metadata": {
    "slideshow": {
     "slide_type": "slide"
    }
   },
   "source": [
    "## セルタイプ\n",
    "- Code\n",
    "    - 実行可能\n",
    "- Markdown/テキスト\n",
    "    - 説明文\n",
    "    - Markdown形式で書く\n",
    "- Raw (colaboratoryでは無し)"
   ]
  },
  {
   "cell_type": "markdown",
   "metadata": {
    "slideshow": {
     "slide_type": "slide"
    }
   },
   "source": [
    "# Markdown\n",
    "## こんなかんじ\n",
    "- 箇条書き1\n",
    "- 箇条書き2"
   ]
  },
  {
   "cell_type": "markdown",
   "metadata": {
    "slideshow": {
     "slide_type": "slide"
    }
   },
   "source": [
    "## セルの編集\n",
    "- 編集モード: Enter or ダブルクリック\n",
    "- 確定: shift-Enter\n",
    "- 追加: 「+」アイコン\n",
    "- 移動: 「↑」「↓」アイコン"
   ]
  },
  {
   "cell_type": "code",
   "execution_count": null,
   "metadata": {
    "scrolled": true,
    "slideshow": {
     "slide_type": "fragment"
    }
   },
   "outputs": [],
   "source": []
  },
  {
   "cell_type": "markdown",
   "metadata": {
    "slideshow": {
     "slide_type": "slide"
    }
   },
   "source": [
    "## コマンドモード: ESC (colaboratoryではCtrl-M)\n",
    "\n",
    "- h: ショートカットキー一覧 \n",
    "\n",
    "セルタイプの変更\n",
    "- y: コード\n",
    "- m: マークダウン\n",
    "- r: Raw (colaboratoryでは無し)\n",
    "\n",
    "セルの移動・追加・削除\n",
    "- k: 上へ移動\n",
    "- j: 下へ移動\n",
    "- a: 上にセル追加\n",
    "- b: 下にセル追加\n",
    "- dd: 削除         (colaboratoryではd)\n",
    "- z: 削除のundo"
   ]
  },
  {
   "cell_type": "markdown",
   "metadata": {
    "slideshow": {
     "slide_type": "slide"
    }
   },
   "source": [
    "## jupyter notebookの拡張機能\n",
    "- Ctrl-h: ヘッダの表示/非表示(編集モード以外のとき)\n",
    "- ハイライト機能(上部メニューより)\n",
    "- 行番号表示(上部メニューより)\n",
    "- 目次表示(上部メニューより)\n",
    "- Edit/nbextension configで各種拡張機能選択"
   ]
  },
  {
   "cell_type": "markdown",
   "metadata": {
    "slideshow": {
     "slide_type": "slide"
    }
   },
   "source": [
    "## 注意\n",
    "- プログラムが無限ループに入ったりしたのを停止したいときは**停止ボタン**を押すこと。\n",
    "- 変数への代入や関数定義等は，(セルの並び順ではなく)**処理された順に記憶**されていく。\n",
    "    - うまく実行できるプログラムが出来たと思っても，保存・再読込後やKernelの再起動後に，上から順に実行してもエラーが出ることがあるので注意。\n",
    "- 長いプログラムを書く時に，複数のセルに細かく分けて書くと，全体像がわかりにくくなることがある。\n",
    "    - C言語のように**プログラムは整然**と並べるようにする。"
   ]
  },
  {
   "cell_type": "code",
   "execution_count": null,
   "metadata": {},
   "outputs": [],
   "source": []
  },
  {
   "cell_type": "markdown",
   "metadata": {
    "scrolled": true,
    "slideshow": {
     "slide_type": "fragment"
    }
   },
   "source": [
    "## おまけ\n",
    "\n",
    "このjupyter上で動くpythonのバージョンを表示\n",
    "```\n",
    "import platform\n",
    "print(platform.python_version())\n",
    "```"
   ]
  },
  {
   "cell_type": "code",
   "execution_count": 2,
   "metadata": {},
   "outputs": [],
   "source": []
  }
 ],
 "metadata": {
  "kernelspec": {
   "display_name": "Python 3",
   "language": "python",
   "name": "python3"
  },
  "language_info": {
   "codemirror_mode": {
    "name": "ipython",
    "version": 3
   },
   "file_extension": ".py",
   "mimetype": "text/x-python",
   "name": "python",
   "nbconvert_exporter": "python",
   "pygments_lexer": "ipython3",
   "version": "3.5.2"
  },
  "toc": {
   "base_numbering": 1,
   "nav_menu": {},
   "number_sections": true,
   "sideBar": true,
   "skip_h1_title": false,
   "title_cell": "Table of Contents",
   "title_sidebar": "Contents",
   "toc_cell": false,
   "toc_position": {},
   "toc_section_display": true,
   "toc_window_display": false
  }
 },
 "nbformat": 4,
 "nbformat_minor": 2
}
