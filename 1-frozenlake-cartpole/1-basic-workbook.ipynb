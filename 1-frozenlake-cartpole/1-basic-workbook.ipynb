{
 "cells": [
  {
   "cell_type": "markdown",
   "metadata": {
    "slideshow": {
     "slide_type": "slide"
    }
   },
   "source": [
    "# 宿題シート: 基本(basic)\n",
    "\n",
    "このファイルの名前を以下のように変更して，締切までに提出しましょう。\n",
    "```\n",
    "1-basic-<学籍番号>-<名前>.ipynb\n",
    "例) 1-basic-16-2202-099-9-YamaguchiDai.ipynb\n",
    "```\n",
    "- 名前は必ず，姓名の順にすること\n",
    "- **ファイル名が不適切な場合は減点**します"
   ]
  },
  {
   "cell_type": "markdown",
   "metadata": {
    "slideshow": {
     "slide_type": "slide"
    }
   },
   "source": [
    "## 課題\n",
    "- 以下の説明文や例文を読みなさい。\n",
    "- 各説明文や例文のあとにあるCodeセルでは以下を実行しなさい。\n",
    "    - **設問(Q)がある場合**にはその解答を書き，実行しなさい。**セル内にヒントがないときにはテキストを参照**しなさい。\n",
    "    - **設問(Q)がない場合**には，例文等をCodeセルで実際に実行して動作を確認しなさい。**例文はそのままコピペせず，少し違う内容に**して試しなさい\n",
    "- なんらかの演算やしたり，命令文作ったときは，その**結果が予想通りか否かを必ず確認しなさい**\n",
    "\n",
    "## そのほか\n",
    "- **設問(Q)があるセルは書き換えない**でください。\n",
    "- 設問がない説明文のセルは，加筆してもいいですが，すでにある内容は消さないでください。\n",
    "- 必要に応じてセルを増やしても構いません。役立ちそうな情報を追記しておくと，今後プログラムを組む上で便利なメモになります。"
   ]
  },
  {
   "cell_type": "markdown",
   "metadata": {
    "slideshow": {
     "slide_type": "slide"
    }
   },
   "source": [
    "# Python の基本"
   ]
  },
  {
   "cell_type": "markdown",
   "metadata": {
    "slideshow": {
     "slide_type": "slide"
    }
   },
   "source": [
    "## 実行方法\n",
    "1. C言語のように，テキスト形式でプログラムを書いて実行\n",
    "```\n",
    "$ python program.py\n",
    "```\n",
    "2. このjupyter notebook等で，インタラクティブに実行\n",
    "    - 本演習ではこちらを主に説明"
   ]
  },
  {
   "cell_type": "markdown",
   "metadata": {
    "slideshow": {
     "slide_type": "slide"
    }
   },
   "source": [
    "## 命令文の書き方 p.44\n",
    "- statement (命令文)の区切り ;\n",
    "- statement の改行 \\\n",
    "```python\n",
    "a=1\n",
    "b=2; c=a+b; d=a+b+c\n",
    "e=a+b \\\n",
    "   +c+d\n",
    "``` \n",
    "注) pythonでは，C言語\";\"のように**文末記号がない**ので，命令文が複数行にわたるときには，**途中で改行することを\"\\\"で明示**する必要がある"
   ]
  },
  {
   "cell_type": "code",
   "execution_count": null,
   "metadata": {
    "scrolled": true,
    "slideshow": {
     "slide_type": "fragment"
    }
   },
   "outputs": [],
   "source": []
  },
  {
   "cell_type": "markdown",
   "metadata": {
    "slideshow": {
     "slide_type": "slide"
    }
   },
   "source": [
    "## コメント p.46\n",
    "### 1行コメント\n",
    "\n",
    "\\#から行末までは実行時に無視される\n",
    "```\n",
    "# x=4     この行は実行されない\n",
    "x= 3  #  x=3は実行されるが，#以降は無視される\n",
    "```\n",
    "\n",
    "### 複数行コメント\n",
    "\"\"\"で挟んだ部分は実行時に無視される\n",
    "```\n",
    "x=5\n",
    "\"\"\"\n",
    "ここは実行時に無視される\n",
    "x=2\n",
    "\"\"\"\n",
    "print(x)   #ここは実行され，上記コメント部分は無視される\n",
    "```\n",
    "ただし，以下のようにコメント部分の後に命令文がない場合は，jupyter notebookやGoogle Colaboratoryでは，コメント内の文が出力セルに表示される。(プログラムの命令文には影響しない)\n",
    "\n",
    "```\n",
    "\"\"\"\n",
    "ここはコメント文だが，次に命令文を書かない場合は，shift-enterを押すと出力セルに表示される...\n",
    "\"\"\"\n",
    "```"
   ]
  },
  {
   "cell_type": "code",
   "execution_count": null,
   "metadata": {
    "scrolled": true,
    "slideshow": {
     "slide_type": "fragment"
    }
   },
   "outputs": [],
   "source": []
  },
  {
   "cell_type": "markdown",
   "metadata": {
    "slideshow": {
     "slide_type": "slide"
    }
   },
   "source": [
    "## 基本演算とprint()\n",
    "- Cとおおむね同じ (演算子一覧は p.54, 71)\n",
    "- ただし，`++`, `--`は使えない。`+=`, `-=`は使える\n",
    "- print文もあり p.49 (文字列の演算はp.55〜)\n",
    "```python\n",
    "x=3; y=2.0\n",
    "print(x)\n",
    "print(x,y,sep=\",\")\n",
    "print(\"xは\", x, \"yは\", y, \"\\nx*yは\", x*y)\n",
    "print(\"x=%d\" % x)\n",
    "print(\"(x,y)=(%d,%e)\" % (x,y))\n",
    "```"
   ]
  },
  {
   "cell_type": "markdown",
   "metadata": {
    "slideshow": {
     "slide_type": "-"
    }
   },
   "source": [
    "Q. 体重m, 身長hの値を設定し，「太郎の身長は◯ m, 体重は◯ kgです」と表示する命令文を，2種類の方法(%を用いる方法と用いない方法)で書きなさい"
   ]
  },
  {
   "cell_type": "code",
   "execution_count": null,
   "metadata": {
    "scrolled": true,
    "slideshow": {
     "slide_type": "-"
    }
   },
   "outputs": [],
   "source": []
  },
  {
   "cell_type": "markdown",
   "metadata": {
    "slideshow": {
     "slide_type": "slide"
    }
   },
   "source": [
    "## 変数の型(p. 50)\n",
    "- 変数の型宣言は不要(型は自動推定)\n",
    "- type(x) : xの型名を返す\n",
    "```python\n",
    "x=2\n",
    "y=2.0\n",
    "z=3+2j\n",
    "l=[3,5,2]\n",
    "b=True\n",
    "s=\"hello\"\n",
    "print(type(x))\n",
    "```"
   ]
  },
  {
   "cell_type": "markdown",
   "metadata": {},
   "source": [
    "Q. いろいろな変数の型を確認しなさい"
   ]
  },
  {
   "cell_type": "code",
   "execution_count": null,
   "metadata": {
    "scrolled": true,
    "slideshow": {
     "slide_type": "-"
    }
   },
   "outputs": [],
   "source": []
  },
  {
   "cell_type": "markdown",
   "metadata": {
    "slideshow": {
     "slide_type": "slide"
    }
   },
   "source": [
    "# モジュール\n",
    "C言語のライブラリにあたるもの"
   ]
  },
  {
   "cell_type": "markdown",
   "metadata": {
    "slideshow": {
     "slide_type": "slide"
    }
   },
   "source": [
    "## mathモジュール p.78\n",
    "- 関数例(一覧p.80-81)\n",
    "    - math.sin()\n",
    "    - math.cos()\n",
    "    - math.log()\n",
    "- 定数\n",
    "    - math.pi\n",
    "    - math.e\n",
    "- help('math')\n",
    "- help('math.sin')\n",
    "\n",
    "mathモジュールの読み込みと関数実行\n",
    "```python\n",
    "import math as ma\n",
    "x=ma.pi/2\n",
    "ma.sin(x)\n",
    "```"
   ]
  },
  {
   "cell_type": "code",
   "execution_count": null,
   "metadata": {
    "scrolled": true,
    "slideshow": {
     "slide_type": "-"
    }
   },
   "outputs": [],
   "source": []
  },
  {
   "cell_type": "markdown",
   "metadata": {
    "slideshow": {
     "slide_type": "slide"
    }
   },
   "source": [
    "## randomモジュール p.82\n",
    "- 関数例\n",
    "    - `random.randint(min,max)`   # randomモジュールのrandint()関数\n",
    "    - `random.random()`\n",
    "\n",
    "```python\n",
    "import random as ra # モジュールの読み込み\n",
    "ra.random()\n",
    "```"
   ]
  },
  {
   "cell_type": "markdown",
   "metadata": {},
   "source": [
    "Q. randomモジュールのrandint()やrandom()が，どのような乱数を発生するかを調べ，実際に試しなさい"
   ]
  },
  {
   "cell_type": "code",
   "execution_count": null,
   "metadata": {
    "scrolled": true,
    "slideshow": {
     "slide_type": "-"
    }
   },
   "outputs": [],
   "source": []
  },
  {
   "cell_type": "markdown",
   "metadata": {
    "slideshow": {
     "slide_type": "slide"
    }
   },
   "source": [
    "## モジュールのいろいろな読み込み方法, p.81\n",
    "```python\n",
    "import <module>\n",
    "import <module> as <alias>\n",
    "from <module> import <function>\n",
    "```\n",
    "例)\n",
    "```python\n",
    "import math\n",
    "print(math.cos(0))\n",
    "\n",
    "import math as ma\n",
    "print(ma.cos(0))\n",
    "\n",
    "from math import cos\n",
    "print(cos(0))\n",
    "```"
   ]
  },
  {
   "cell_type": "markdown",
   "metadata": {
    "slideshow": {
     "slide_type": "-"
    }
   },
   "source": [
    "Q. randomモジュールを上記3つの方法で読み込んだ場合それぞれについて，関数random.random()を呼び出してみなさい"
   ]
  },
  {
   "cell_type": "code",
   "execution_count": null,
   "metadata": {
    "scrolled": true,
    "slideshow": {
     "slide_type": "-"
    }
   },
   "outputs": [],
   "source": []
  },
  {
   "cell_type": "markdown",
   "metadata": {
    "slideshow": {
     "slide_type": "slide"
    }
   },
   "source": [
    "# ループ・条件分岐"
   ]
  },
  {
   "cell_type": "markdown",
   "metadata": {
    "slideshow": {
     "slide_type": "slide"
    }
   },
   "source": [
    "## if文 p.96\n",
    "```python\n",
    "x=1\n",
    "if x == 0:\n",
    "    print(x, \"is zero\")\n",
    "elif x > 0:\n",
    "    print(x, \"is positive\")\n",
    "else:\n",
    "    print(x, \"is negative\")\n",
    "```\n",
    "注) pythonはC言語のように{}を使わない。インデント(空白4文字)で構文単位を表現"
   ]
  },
  {
   "cell_type": "markdown",
   "metadata": {
    "slideshow": {
     "slide_type": "-"
    }
   },
   "source": [
    "Q. xが偶数か，奇数か，それ以外かを判定して，その結果を表示する命令文を作りなさい"
   ]
  },
  {
   "cell_type": "code",
   "execution_count": null,
   "metadata": {
    "slideshow": {
     "slide_type": "-"
    }
   },
   "outputs": [],
   "source": []
  },
  {
   "cell_type": "markdown",
   "metadata": {
    "slideshow": {
     "slide_type": "slide"
    }
   },
   "source": [
    "## if-elseを1行で書く p.110\n",
    "if-else文も1行で書くことができる。\n",
    "\n",
    "**返り値 if 条件式 else 返り値**\n",
    "```python\n",
    "x = -3\n",
    "absval = x if x > 0 else -x\n",
    "print(absval)\n",
    "```"
   ]
  },
  {
   "cell_type": "markdown",
   "metadata": {
    "slideshow": {
     "slide_type": "-"
    }
   },
   "source": [
    "Q. xが偶数ならTrue，それ以外ならFalseを変数evenに代入する命令を1文で作りなさい。"
   ]
  },
  {
   "cell_type": "code",
   "execution_count": 1,
   "metadata": {
    "slideshow": {
     "slide_type": "-"
    }
   },
   "outputs": [],
   "source": []
  },
  {
   "cell_type": "markdown",
   "metadata": {
    "slideshow": {
     "slide_type": "slide"
    }
   },
   "source": [
    "## while文, p.112\n",
    "```python\n",
    "i = 0\n",
    "while i < 10:\n",
    "    print(i, end=' ')\n",
    "    i += 1\n",
    "```"
   ]
  },
  {
   "cell_type": "markdown",
   "metadata": {
    "slideshow": {
     "slide_type": "-"
    }
   },
   "source": [
    "Q. 1から10までの整数を順に足して，最後にその総和を表示する命令文をwhile文を使って書きなさい。"
   ]
  },
  {
   "cell_type": "code",
   "execution_count": 2,
   "metadata": {
    "slideshow": {
     "slide_type": "-"
    }
   },
   "outputs": [],
   "source": []
  },
  {
   "cell_type": "markdown",
   "metadata": {
    "slideshow": {
     "slide_type": "slide"
    }
   },
   "source": [
    "## for文, p.121\n",
    "### リストを使う\n",
    "\n",
    "リストは要素を[]内に列挙してつくる。リストについての詳細はまた今度\n",
    "```python\n",
    "for i in [1,5,9]:\n",
    "    print(i, end=' ')\n",
    "```\n",
    "リストは変数に確認しておいて良い\n",
    "```python\n",
    "numlist=[1,5,9]\n",
    "for i in numlist:\n",
    "    print(i, end=' ')\n",
    "```"
   ]
  },
  {
   "cell_type": "markdown",
   "metadata": {
    "slideshow": {
     "slide_type": "-"
    }
   },
   "source": [
    "Q. リスト`fruit=[\"apple\", \"orange\", \"banana\"]`の各要素を順に表示する命令文を書きなさい。"
   ]
  },
  {
   "cell_type": "code",
   "execution_count": null,
   "metadata": {
    "slideshow": {
     "slide_type": "-"
    }
   },
   "outputs": [],
   "source": []
  },
  {
   "cell_type": "markdown",
   "metadata": {
    "slideshow": {
     "slide_type": "slide"
    }
   },
   "source": [
    "### range()関数を使う\n",
    "\n",
    "**`range(end)`** :0以上end**未満**の数列を生成する\n",
    "\n",
    "```python\n",
    "for i in range(5):\n",
    "    print(i, end=' ')\n",
    "```\n",
    "**`range(begin, end, step)`**: begin以上end**未満**の数列を生成する。stepは要素間の間隔\n",
    "\n",
    "```python\n",
    "for i in range(3,8,2):\n",
    "    print(i, end=' ')\n",
    "```"
   ]
  },
  {
   "cell_type": "markdown",
   "metadata": {
    "slideshow": {
     "slide_type": "-"
    }
   },
   "source": [
    "Q. `range()`関数のstep指定を負の値に指定できるか，for文を作って確認しなさい。"
   ]
  },
  {
   "cell_type": "code",
   "execution_count": 3,
   "metadata": {
    "slideshow": {
     "slide_type": "-"
    }
   },
   "outputs": [],
   "source": []
  },
  {
   "cell_type": "markdown",
   "metadata": {
    "slideshow": {
     "slide_type": "slide"
    }
   },
   "source": [
    "### for文の一般的な表現\n",
    "```\n",
    "for 変数 in イテラブル:\n",
    "    実行文\n",
    "```\n",
    "- **イテラブル**: 順に一つずつ要素を取り出せるオブジェクト\n",
    "    - ex) リスト, range()でつくるシーケンスなど\n",
    "- for と inの 間の変数に，イテラブルの要素が順に代入される\n",
    "\n",
    "### 2重ループの例\n",
    "```python\n",
    "for i in range(3):\n",
    "    for j in range(4):\n",
    "        print(\"(%d, %d)\" % (i,j))\n",
    "```"
   ]
  },
  {
   "cell_type": "markdown",
   "metadata": {
    "slideshow": {
     "slide_type": "slide"
    }
   },
   "source": [
    "Q. リスト`states=[1,2,3,4,5]`とリスト`actions=[\"right\",\"left\"]`の各要素のすべての組み合わせについて，以下のように表示をするfor文を作りなさい。\n",
    "- 変数`states`に代入するリスト(数列)はrange()を使って生成しなさい。\n",
    "```\n",
    "(1,right)(1,left) #<=数字が数字が繰り上がるときに改行\n",
    "(2,right)(2,left)\n",
    "...\n",
    "```"
   ]
  },
  {
   "cell_type": "code",
   "execution_count": 4,
   "metadata": {
    "slideshow": {
     "slide_type": "-"
    }
   },
   "outputs": [],
   "source": []
  },
  {
   "cell_type": "code",
   "execution_count": null,
   "metadata": {},
   "outputs": [],
   "source": []
  }
 ],
 "metadata": {
  "celltoolbar": "Slideshow",
  "kernelspec": {
   "display_name": "Python 3",
   "language": "python",
   "name": "python3"
  },
  "language_info": {
   "codemirror_mode": {
    "name": "ipython",
    "version": 3
   },
   "file_extension": ".py",
   "mimetype": "text/x-python",
   "name": "python",
   "nbconvert_exporter": "python",
   "pygments_lexer": "ipython3",
   "version": "3.5.2"
  },
  "rise": {
   "scroll": true
  },
  "toc": {
   "base_numbering": 1,
   "nav_menu": {},
   "number_sections": true,
   "sideBar": true,
   "skip_h1_title": false,
   "title_cell": "Table of Contents",
   "title_sidebar": "Contents",
   "toc_cell": false,
   "toc_position": {},
   "toc_section_display": true,
   "toc_window_display": false
  }
 },
 "nbformat": 4,
 "nbformat_minor": 2
}
