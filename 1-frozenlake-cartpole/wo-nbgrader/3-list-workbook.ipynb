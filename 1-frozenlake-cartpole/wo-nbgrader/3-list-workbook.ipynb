{
 "cells": [
  {
   "cell_type": "markdown",
   "metadata": {
    "slideshow": {
     "slide_type": "slide"
    }
   },
   "source": [
    "# 宿題シート: リスト(list)\n",
    "\n",
    "**このファイルの名前を以下のように変更して，締切までに提出**しましょう。\n",
    "```\n",
    "3-list-<学籍番号>-<名前>.ipynb\n",
    "例) 3-list-16-2202-099-9-YamaguchiDai.ipynb\n",
    "```\n",
    "- 名前は必ず，姓名の順にすること\n",
    "- **ファイル名が不適切な場合は減点**します"
   ]
  },
  {
   "cell_type": "code",
   "execution_count": 6,
   "metadata": {},
   "outputs": [],
   "source": []
  },
  {
   "cell_type": "markdown",
   "metadata": {
    "slideshow": {
     "slide_type": "slide"
    }
   },
   "source": [
    "## 課題\n",
    "- 以下の説明文や例文を読みなさい。\n",
    "- 各説明文や例文のあとにあるCodeセルでは以下を実行しなさい。\n",
    "    - **設問(Q)がある場合**にはその解答を書き，実行しなさい。**セル内にヒントがないときにはテキストを参照**しなさい。\n",
    "    - **設問(Q)がない場合**には，例文等をCodeセルで実際に実行して動作を確認しなさい。**例文はそのままコピペせず，少し違う内容に**して試しなさい\n",
    "- なんらかの演算やしたり，命令文作ったときは，その**結果が予想通りか否かを必ず確認しなさい**\n",
    "\n",
    "## そのほか\n",
    "- **設問(Q)があるセルは書き換えない**でください。\n",
    "- 設問がない説明文のセルは，加筆してもいいですが，すでにある内容は消さないでください。\n",
    "- 必要に応じてセルを増やしても構いません。役立ちそうな情報を追記しておくと，今後プログラムを組む上で便利なメモになります。"
   ]
  },
  {
   "cell_type": "markdown",
   "metadata": {
    "slideshow": {
     "slide_type": "slide"
    }
   },
   "source": [
    "# リスト(list), p.141"
   ]
  },
  {
   "cell_type": "markdown",
   "metadata": {
    "slideshow": {
     "slide_type": "slide"
    }
   },
   "source": [
    "## リスト/タプル/辞書/セット\n",
    "\n",
    "| 名前       |    例                       |                                                      |\n",
    "|-------------|----------------------------|------------------------------------------------------|\n",
    "| **リスト(list)**   | ``L=[\"kiwi\", \"banana\", \"apple\"]``  | **インデックス番号付き集合**               |\n",
    "| タプル(tuple)| ``T=(\"kiwi\", \"banana\", \"apple\")``      |インデックス番号付き集合(代入不可)       |\n",
    "| 辞書(dict)  | ``D={\"kiwi\":3, \"banana\":2, \"apple\":3}`` | インデックス番号無し (key,value) 対応表 |\n",
    "| セット(set)   | ``S={\"kiwi\", \"banana\", \"apple\"}``     | インデックス番号無し集合                |"
   ]
  },
  {
   "cell_type": "markdown",
   "metadata": {
    "slideshow": {
     "slide_type": "slide"
    }
   },
   "source": [
    "## リストの定義, p.142\n",
    "### 要素を列挙して定義\n",
    "```python\n",
    "L=[2,5,8,3]\n",
    "print(L)      # リスト要素の表示\n",
    "L2=L*2        # 2倍したら何が起きるだろう...\n",
    "print(L2)\n",
    "L3=L+[\"cat\",\"dog\"] #足してみよう\n",
    "print(L3)\n",
    "```"
   ]
  },
  {
   "cell_type": "code",
   "execution_count": 1,
   "metadata": {
    "slideshow": {
     "slide_type": "fragment"
    }
   },
   "outputs": [],
   "source": []
  },
  {
   "cell_type": "markdown",
   "metadata": {
    "slideshow": {
     "slide_type": "-"
    }
   },
   "source": [
    "Q. 1が10個入っているリストxを乗算記号を使って作りなさい (x=[1,1,1,1,1,1,1,1,1,1]を生成)。"
   ]
  },
  {
   "cell_type": "code",
   "execution_count": 2,
   "metadata": {
    "slideshow": {
     "slide_type": "fragment"
    }
   },
   "outputs": [],
   "source": []
  },
  {
   "cell_type": "markdown",
   "metadata": {
    "slideshow": {
     "slide_type": "slide"
    }
   },
   "source": [
    "### range()を使って定義\n",
    "\n",
    "関数`range()`の**返り値はリストではない**が，`range()`が生成する数列は関数`list()`でリスト化できる。\n",
    "```python\n",
    "L=list(range(5))\n",
    "```\n",
    "\n",
    "関数`range()`の返り値がリストでないことは以下を実行すると確認できる。\n",
    "```python\n",
    "print(range(5))\n",
    "print(type(range(5)))\n",
    "```"
   ]
  },
  {
   "cell_type": "markdown",
   "metadata": {
    "slideshow": {
     "slide_type": "slide"
    }
   },
   "source": [
    "Q. 関数`range()`を使って，0以上20以下の偶数を要素とするリストLをつくり，<span class=\"burk\">その答えが正しいことを以下のように判定しなさい。</span>\n",
    "\n",
    "```python\n",
    "L=           # ここを考える\n",
    "\n",
    "# 答合せ\n",
    "answer=[0, 2, 4, 6, 8, 10, 12, 14, 16, 18, 20]\n",
    "L==answer    # この実行結果がTrueならOK\n",
    "```"
   ]
  },
  {
   "cell_type": "code",
   "execution_count": 3,
   "metadata": {
    "slideshow": {
     "slide_type": "fragment"
    }
   },
   "outputs": [],
   "source": []
  },
  {
   "cell_type": "markdown",
   "metadata": {
    "slideshow": {
     "slide_type": "slide"
    }
   },
   "source": [
    "Q. **リストの要素数は関数`len()`で判定**できる。前問のリスト`L`と`answer`の要素数と同じであることを<span class=\"burk\">以下のように確認しなさい。</span>\n",
    "```python\n",
    "len_L=            # 右辺を書く(Lの要素数)\n",
    "len_ans=          # 右辺を書く(answerの要素数)\n",
    "# 答合せ\n",
    "len_L==len_ans    # この文の実行結果がTrueならばOK\n",
    "```"
   ]
  },
  {
   "cell_type": "code",
   "execution_count": 5,
   "metadata": {
    "slideshow": {
     "slide_type": "-"
    }
   },
   "outputs": [],
   "source": []
  },
  {
   "cell_type": "markdown",
   "metadata": {
    "slideshow": {
     "slide_type": "slide"
    }
   },
   "source": [
    "## リストの加算, p.159\n",
    "\n",
    "Q. 下記の演算を実行すると，変数`v`や`fruit`の値はどうなるか予想して確認しなさい。\n",
    "```python\n",
    "x=[1,2,3,4]; y=[9,8,7,6]\n",
    "v=x+y\n",
    "fruit=[]\n",
    "fruit+=[\"apple\"]\n",
    "fruit+=[\"kiwi\"]\n",
    "```"
   ]
  },
  {
   "cell_type": "code",
   "execution_count": 5,
   "metadata": {
    "slideshow": {
     "slide_type": "-"
    }
   },
   "outputs": [],
   "source": []
  },
  {
   "cell_type": "markdown",
   "metadata": {
    "slideshow": {
     "slide_type": "slide"
    }
   },
   "source": [
    "## リストの参照とスライス, p.146, p.160\n",
    "\n",
    "リストの一部分を取り出す操作のことを**スライス**とよぶ。\n",
    "\n",
    "### スライス範囲の指定方法\n",
    "\n",
    "リスト`L`に対するスライス方法\n",
    "- `L[start]` : インデックスがstart以上\n",
    "- `L[start:end]` : インデックスがstart以上end**未満**\n",
    "- `L[start:end:step]` : インデックスがstart以上end**未満**，ただし，切り出す要素のインデックスはstepずつ増加\n",
    "- **範囲指定に負の値を用いて，リストの末尾からの指定も可能**"
   ]
  },
  {
   "cell_type": "markdown",
   "metadata": {},
   "source": [
    "**問題**  リスト`l=[\"apple\", \"banana\", \"strawberry\", \"orange\", \"grape\"]`に対して，以下の各問いの操作をすると，どのようなリストを取り出すことができるか，予想した上で結果を確認しなさい。"
   ]
  },
  {
   "cell_type": "markdown",
   "metadata": {
    "slideshow": {
     "slide_type": "slide"
    }
   },
   "source": [
    "<span class=\"burk\">Q. リスト`l`を以下のように参照するとどの要素が表示されるだろうか。</span>\n",
    "```python\n",
    "l[0]\n",
    "l[-1]\n",
    "l[-2]\n",
    "l[0:3] # インデックスが0から3未満(以下ではない!)の部分の切り出し\n",
    "l[:2]  # l[0:2]と同じ\n",
    "l[-2:] # l[-2:] # インデックス-2から最後まで\n",
    "```"
   ]
  },
  {
   "cell_type": "code",
   "execution_count": 2,
   "metadata": {
    "slideshow": {
     "slide_type": "-"
    }
   },
   "outputs": [],
   "source": []
  },
  {
   "cell_type": "markdown",
   "metadata": {
    "slideshow": {
     "slide_type": "slide"
    }
   },
   "source": [
    "Q. リスト`l`を以下のように参照するとどの要素が表示されるだろうか。\n",
    "```python\n",
    "l[2:3]\n",
    "l[-3:-2]\n",
    "```"
   ]
  },
  {
   "cell_type": "code",
   "execution_count": 7,
   "metadata": {
    "slideshow": {
     "slide_type": "-"
    }
   },
   "outputs": [],
   "source": []
  },
  {
   "cell_type": "markdown",
   "metadata": {
    "slideshow": {
     "slide_type": "slide"
    }
   },
   "source": [
    "Q. リスト`l`を以下のように参照するとどの要素が表示されるだろうか。\n",
    "```python\n",
    "l[0:len(l):2]   # 第二引数には，リストの要素数が変わっても良いようにlen()を利用\n",
    "l[:len(l):2]\n",
    "l[::2]\n",
    "l[::-1]\n",
    "```"
   ]
  },
  {
   "cell_type": "code",
   "execution_count": 8,
   "metadata": {
    "slideshow": {
     "slide_type": "-"
    }
   },
   "outputs": [],
   "source": []
  },
  {
   "cell_type": "markdown",
   "metadata": {
    "slideshow": {
     "slide_type": "slide"
    }
   },
   "source": [
    "### リストの要素とインデックスの参照\n",
    "リスト要素をインデックスとともに参照する方法例\n",
    "```python\n",
    "L=[2,5,8,3]\n",
    "for i in range(len(L)):\n",
    "    print(\"L[%d]=%d\" % (i,L[i]))\n",
    "```\n",
    "リスト内の各要素のインデックスと値の両方を返す関数`enumerate()`を用いて，以下のように書くこともできる\n",
    "```python\n",
    "for i,x in enumerate(L):     # 関数enumerate()で各要素のインデックスiと値L[i]に順にアクセス\n",
    "    print(\"L[%d]=%d\" % (i,x))\n",
    "```"
   ]
  },
  {
   "cell_type": "markdown",
   "metadata": {
    "slideshow": {
     "slide_type": "slide"
    }
   },
   "source": [
    "<span class=\"burk\">Q. for文と関数`enumerate()`を使って，`L=[1,\"apple\",[2,3],3.5]` の各要素とそのタイプ(型)を順に表示しなさい。</span>"
   ]
  },
  {
   "cell_type": "code",
   "execution_count": 9,
   "metadata": {
    "slideshow": {
     "slide_type": "fragment"
    }
   },
   "outputs": [],
   "source": []
  },
  {
   "cell_type": "markdown",
   "metadata": {
    "slideshow": {
     "slide_type": "slide"
    }
   },
   "source": [
    "## リストの編集メソッド, p.151\n",
    "- `list.append(x)`    # 末尾に要素xを追加\n",
    "- `list.extend(list)` # 末尾にlistの要素を追加\n",
    "- `list.insert(i,x)` # 位置iにxを挿入\n",
    "- `list.remove(i)`   # 位置iの要素を削除\n",
    "- `list.clear()`     # リスト内の要素をすべて削除"
   ]
  },
  {
   "cell_type": "markdown",
   "metadata": {
    "slideshow": {
     "slide_type": "slide"
    }
   },
   "source": [
    "<span class=\"burk\">Q. 以下を実行するとリスト`fruit`の要素がどう変わっていくかを予測し，実際に実行して確認しなさい。</span>\n",
    "\n",
    "```python\n",
    "fruit=[]\n",
    "fruit.append(\"apple\")\n",
    "fruit.append([\"kiwi\",\"orange\"])\n",
    "fruit.extend([\"peach\",\"melon\"])\n",
    "fruit.insert(2,\"banana\")\n",
    "```"
   ]
  },
  {
   "cell_type": "code",
   "execution_count": 10,
   "metadata": {
    "slideshow": {
     "slide_type": "-"
    }
   },
   "outputs": [],
   "source": []
  },
  {
   "cell_type": "markdown",
   "metadata": {
    "slideshow": {
     "slide_type": "slide"
    }
   },
   "source": [
    "## リストの代入(参照渡しと値渡し), p.165\n",
    "\n",
    "変数への，リストオブジェクトの代入は**参照渡し**である。"
   ]
  },
  {
   "cell_type": "markdown",
   "metadata": {
    "slideshow": {
     "slide_type": "-"
    }
   },
   "source": [
    "Q. 以下の実行結果を予想し，実際に実行して確認しなさい。\n",
    "```python\n",
    "dat1=[1,2,3]  # リスト[1,2,3]のアドレスがdat1の参照先に\n",
    "dat2=dat1     # data1の参照先アドレスをdat2にコピー\n",
    "dat2[-1]=5\n",
    "print(dat1)\n",
    "dat1[1]=10\n",
    "print(dat2)\n",
    "dat1=[5,6,7] # [5,6,7]のアドレスがdat1の参照先に\n",
    "print(dat2)\n",
    "```"
   ]
  },
  {
   "cell_type": "code",
   "execution_count": 11,
   "metadata": {
    "slideshow": {
     "slide_type": "-"
    }
   },
   "outputs": [],
   "source": []
  },
  {
   "cell_type": "markdown",
   "metadata": {
    "slideshow": {
     "slide_type": "slide"
    }
   },
   "source": [
    "## リストの複製(値渡し), p.167\n",
    "リストの(**参照渡しではなく値渡しによる**)コピーの方法\n",
    "- 方法1: メソッド`list.copy()`を使う\n",
    "```\n",
    "dat2=dat.copy()\n",
    "```\n",
    "- 方法2: スライスを使う\n",
    "```\n",
    "dat3=dat[:]   # dat1のはじめから終わりまで切り出す\n",
    "```\n",
    "- 方法3: リストを関数`list()`でリスト化する\n",
    "```\n",
    "dat4=list(dat)\n",
    "```"
   ]
  },
  {
   "cell_type": "markdown",
   "metadata": {
    "slideshow": {
     "slide_type": "slide"
    }
   },
   "source": [
    "<span class=\"burk\">Q. 適当なリストを定義し，上記3つの方法が，いずれも値渡しになっていることを確認しなさい</span>"
   ]
  },
  {
   "cell_type": "code",
   "execution_count": 12,
   "metadata": {
    "slideshow": {
     "slide_type": "-"
    }
   },
   "outputs": [],
   "source": []
  },
  {
   "cell_type": "markdown",
   "metadata": {
    "slideshow": {
     "slide_type": "slide"
    }
   },
   "source": [
    "## リストの並べ替え, p.168\n",
    "\n",
    "### 関数`sorted()`\n",
    "```python\n",
    "sorted(list)\n",
    "```\n",
    "- 関数sorted()はオブジェクトは書き換えず，ソート後のリストを返す\n",
    "\n",
    "### メソッド`list.sort()`\n",
    "\n",
    "```python\n",
    "list.sort(reverse=False) \n",
    "```\n",
    "- 引数は省略可。降順にするときは `reverse=True`を指定\n",
    "- list.sort()メソッドはオブジェクトlistを書き換える"
   ]
  },
  {
   "cell_type": "markdown",
   "metadata": {},
   "source": [
    "Q. リストを適当に定義し，その要素をソートしたリストを，関数`sorted()`およびメソッド`list.sort()`の2種類の方法で得なさい。<span class=\"burk\">また，両者の結果が等しいことを演算子`==`を使って確認しなさい。</span>"
   ]
  },
  {
   "cell_type": "code",
   "execution_count": 13,
   "metadata": {
    "slideshow": {
     "slide_type": "-"
    }
   },
   "outputs": [],
   "source": []
  },
  {
   "cell_type": "markdown",
   "metadata": {
    "slideshow": {
     "slide_type": "slide"
    }
   },
   "source": [
    "## リストの検索, p.177"
   ]
  },
  {
   "cell_type": "markdown",
   "metadata": {
    "slideshow": {
     "slide_type": "slide"
    }
   },
   "source": [
    "### 検索メソッド\n",
    "- `list.count(x)`       # 値がxである要素の数を取得\n",
    "- `list.index(x)`       # 値がxである要素のインデックスのうち最小値を返す。\n",
    "\n",
    "### 検索・計算関数\n",
    "- `max(list)`\n",
    "- `min(list)`\n",
    "- `sum(list)`"
   ]
  },
  {
   "cell_type": "markdown",
   "metadata": {
    "slideshow": {
     "slide_type": "-"
    }
   },
   "source": [
    "Q. 数値リストに対して，最大値をとる要素のインデックスのうち最小のものを求める方法を，関数`max()`とメソッド`list.index()`を使って求める方法を答えなさい。また，<span class=\"burk\">その方法で正しい答を得られることを確認しなさい。</span>\n",
    "```python\n",
    "list=[5,7,8,3,8,3]\n",
    "myans=....    # 右辺に解答を書く\n",
    "\n",
    "# 答合せ\n",
    "answer=2      # 最大値は2個\n",
    "myans==answer # 正否確認\n",
    "```"
   ]
  },
  {
   "cell_type": "code",
   "execution_count": 14,
   "metadata": {
    "slideshow": {
     "slide_type": "-"
    }
   },
   "outputs": [],
   "source": []
  },
  {
   "cell_type": "markdown",
   "metadata": {
    "slideshow": {
     "slide_type": "slide"
    }
   },
   "source": [
    "### リスト要素のキーワード検索\n",
    "\n",
    "**書式:** `<keyword> in <list>`\n",
    "- リスト<list>の要素のうち，キーワードに一致するものがあるか否かを判定する\n",
    "- 返り値: True or False\n",
    "    \n",
    "```python\n",
    "to_buy=[\"apple\", \"banana\", \"strawberry\", \"orange\", \"grape\"]\n",
    "\n",
    "def should_i_buy(item):\n",
    "    judge=item in to_buy\n",
    "    print(\"Should I buy a\", item, \"?\", judge)\n",
    "\n",
    "should_i_buy(\"banana\")\n",
    "```"
   ]
  },
  {
   "cell_type": "markdown",
   "metadata": {},
   "source": [
    "Q. 以下のような関数`check_action(action)`を作りなさい。\n",
    "- 引数名: `action`\n",
    "- 返り値: 引数`action`がリスト`action_list=[\"left\",\"up\",\"right\",\"down\"]`に含まれていたら，該当する要素のインデックス(`list.index()`を使う), なければFalse"
   ]
  },
  {
   "cell_type": "code",
   "execution_count": 15,
   "metadata": {
    "slideshow": {
     "slide_type": "-"
    }
   },
   "outputs": [],
   "source": []
  },
  {
   "cell_type": "markdown",
   "metadata": {
    "slideshow": {
     "slide_type": "slide"
    }
   },
   "source": [
    "## for文を用いたリスト生成\n",
    "\n",
    "### リスト内包表記(list comprehension), p.173\n",
    "\n",
    "for文で生成される値をリスト化する方法\n",
    "\n",
    "書式: **[ 式 for 変数 in イテラブル ]**\n",
    "- リスト内包表記では，forの前に実行する式を書く\n",
    "- 例1) $1^2,2^2,3^2,\\ldots,10^2$の値をリスト化する\n",
    "```python\n",
    "num10=[ i**2 for i in range(1,11) ]\n",
    "```\n",
    "- 例2) 1から6までの乱数を10回発生する。\n",
    "```python\n",
    "import random as ra\n",
    "dice=[ ra.randint(1,6) for i in range(10) ]\n",
    "```"
   ]
  },
  {
   "cell_type": "markdown",
   "metadata": {
    "slideshow": {
     "slide_type": "-"
    }
   },
   "source": [
    "Q. リスト`action_list=[\"left\",\"up\",\"right\",\"down\"]`からランダムに要素を10回選択した結果をリスト化する命令を書きなさい。ランダム選択には`random.choice()`を使うと便利(p.180)。"
   ]
  },
  {
   "cell_type": "code",
   "execution_count": 16,
   "metadata": {
    "slideshow": {
     "slide_type": "fragment"
    }
   },
   "outputs": [],
   "source": []
  },
  {
   "cell_type": "markdown",
   "metadata": {
    "slideshow": {
     "slide_type": "slide"
    }
   },
   "source": [
    "### 条件付きリスト内包表記, p.175\n",
    "\n",
    " for文で生成される値のうち，**条件を満たす要素のみ**をリスト化する\n",
    " \n",
    "書式: **[ 式 for 変数 in イテラブル if 条件式 ]**\n",
    "\n",
    "```python\n",
    "import random as ra\n",
    "rnd=[ ra.random() for i in range(30) ] # 30回乱数を生成\n",
    "low01=[ i for i in rnd if i<0.1 ]  # rndに含まれる0.1未満の数\n",
    "low01_2=[ x for i,x in enumerate(rnd) if x<0.1 ] # 同上\n",
    "```"
   ]
  },
  {
   "cell_type": "markdown",
   "metadata": {
    "slideshow": {
     "slide_type": "slide"
    }
   },
   "source": [
    "Q. 条件付きリスト内包表記を用いて，数値リスト`Qvalue`の要素のうち，指定した値`value`をとるもののインデックスをリスト化して返す関数`index_list()`を定義しなさい。\n",
    "\n",
    "- **関数の定義にはラムダ式を使う**こと\n",
    "- **関数`enumerate()`を利用すること**\n",
    "- `Qlist=[2,4,1,4,3,2,4,1,4,3,4,1]`を引数とした場合，`index_list(Qlist,4)`の返り値が`answer=[1,3,6,8,10]`になることを<span class=\"burk\">確認しなさい。</span>\n",
    "\n",
    "```python\n",
    "index_list = lambda L, value:  # 右辺を完成させる\n",
    "\n",
    "# 答合せ\n",
    "Qlist = [2,4,1,4,3,2,4,1,4,3,4,1]\n",
    "answer= [1,3,6,8,10]           # Qlistの要素のうち，値が4である要素のインデックス(正解)\n",
    "myans=index_list(Qlist,4)\n",
    "myans==answer                  #この実行結果がTrueであることを確認する\n",
    "```"
   ]
  },
  {
   "cell_type": "code",
   "execution_count": 17,
   "metadata": {
    "slideshow": {
     "slide_type": "fragment"
    }
   },
   "outputs": [],
   "source": []
  },
  {
   "cell_type": "markdown",
   "metadata": {
    "slideshow": {
     "slide_type": "slide"
    }
   },
   "source": [
    "## 2次元配列\n",
    "\n",
    "2次元配列の定義の例\n",
    "```python\n",
    "L=[[0, 0, 0], [0, 0, 0], [0, 0, 0], [0, 0, 0]]\n",
    "```"
   ]
  },
  {
   "cell_type": "markdown",
   "metadata": {
    "slideshow": {
     "slide_type": "-"
    }
   },
   "source": [
    "Q. 以下を実行すると，どちらも各要素の値を0とする2次元リストができるが，どちらか一方の方法は使わないほうが良い。\n",
    "<span class=\"burk\">例えば，`L[2][1]=1`を実行することにより，どちらが不適切か判定し，その理由を考えなさい。</span>\n",
    "\n",
    "```python\n",
    "L= [[0]*3]*4    #リスト[0,0,0]を生成し，そのアドレスを4回参照して2次元リストにする\n",
    "L2= [[0 for i in range(3)] for j in range(4)]  # j が更新されるたびに，内側の[]内を実行\n",
    "```"
   ]
  },
  {
   "cell_type": "code",
   "execution_count": 18,
   "metadata": {
    "slideshow": {
     "slide_type": "fragment"
    }
   },
   "outputs": [],
   "source": []
  },
  {
   "cell_type": "markdown",
   "metadata": {
    "slideshow": {
     "slide_type": "slide"
    }
   },
   "source": [
    "Q. 前問の2次元リスト`L2`を使って，以下を確認しなさい。\n",
    "1. `L2.append([1,1,1])` でデータの追加ができるだろうか。\n",
    "2. `L2.append([5,5])`や, `L2.append(\"apple\")`は実行可能だろうか。"
   ]
  },
  {
   "cell_type": "code",
   "execution_count": 19,
   "metadata": {
    "slideshow": {
     "slide_type": "fragment"
    }
   },
   "outputs": [],
   "source": []
  }
 ],
 "metadata": {
  "celltoolbar": "Slideshow",
  "kernelspec": {
   "display_name": "Python 3",
   "language": "python",
   "name": "python3"
  },
  "language_info": {
   "codemirror_mode": {
    "name": "ipython",
    "version": 3
   },
   "file_extension": ".py",
   "mimetype": "text/x-python",
   "name": "python",
   "nbconvert_exporter": "python",
   "pygments_lexer": "ipython3",
   "version": "3.5.2"
  },
  "nbTranslate": {
   "displayLangs": [
    "*"
   ],
   "hotkey": "alt-t",
   "langInMainMenu": true,
   "sourceLang": "en",
   "targetLang": "fr",
   "useGoogleTranslate": true
  },
  "rise": {
   "scroll": true
  },
  "toc": {
   "base_numbering": 1,
   "nav_menu": {},
   "number_sections": true,
   "sideBar": true,
   "skip_h1_title": false,
   "title_cell": "Table of Contents",
   "title_sidebar": "Contents",
   "toc_cell": false,
   "toc_position": {},
   "toc_section_display": true,
   "toc_window_display": false
  }
 },
 "nbformat": 4,
 "nbformat_minor": 2
}
