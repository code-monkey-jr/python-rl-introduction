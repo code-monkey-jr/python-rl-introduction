{
 "cells": [
  {
   "cell_type": "markdown",
   "metadata": {
    "slideshow": {
     "slide_type": "slide"
    }
   },
   "source": [
    "# 宿題シート: タプルと辞書(tuple, dict)\n",
    "\n",
    "**このファイルの名前を以下のように変更して，締切までに提出**しましょう。\n",
    "```\n",
    "5-tuple-<学籍番号>-<名前>.ipynb\n",
    "例) 5-tuple-16-2202-099-9-YamaguchiDai.ipynb\n",
    "```\n",
    "- 名前は必ず，姓名の順にすること\n",
    "- **ファイル名が不適切な場合は減点**します"
   ]
  },
  {
   "cell_type": "markdown",
   "metadata": {},
   "source": [
    "## 課題\n",
    "- 以下の説明文や例文を読みなさい。\n",
    "- 各説明文や例文のあとにあるCodeセルでは以下を実行しなさい。\n",
    "    - **設問(Q)がある場合**にはその解答を書き，実行しなさい。**セル内にヒントがないときにはテキストを参照**しなさい。\n",
    "    - **設問(Q)がない場合**には，例文等をCodeセルで実際に実行して動作を確認しなさい。**例文はそのままコピペせず，少し違う内容に**して試しなさい\n",
    "- なんらかの演算やしたり，命令文作ったときは，その**結果が予想通りか否かを必ず確認しなさい**\n",
    "\n",
    "## そのほか\n",
    "- **設問(Q)があるセルは書き換えない**でください。\n",
    "- 設問がない説明文のセルは，加筆してもいいですが，すでにある内容は消さないでください。\n",
    "- 必要に応じてセルを増やしても構いません。役立ちそうな情報を追記しておくと，今後プログラムを組む上で便利なメモになります。"
   ]
  },
  {
   "cell_type": "markdown",
   "metadata": {
    "slideshow": {
     "slide_type": "slide"
    }
   },
   "source": [
    "# タプル(tuple)\n",
    "\n",
    "| 名前       |    例                       |                                                      |\n",
    "|-------------|----------------------------|------------------------------------------------------|\n",
    "| リスト(list)   | ``L=[\"kiwi\", \"banana\", \"apple\"]``  | インデックス番号付き集合               |\n",
    "| **タプル(tuple)** | ``T=(\"kiwi\", \"banana\", \"apple\")`` | **インデックス番号付き集合(代入不可)**    |\n",
    "| 辞書(dict)  | ``D={\"kiwi\":3, \"banana\":2, \"apple\":3}`` | インデックス番号無し (key,value) 対応表 |\n",
    "| セット(set)   | ``S={\"kiwi\", \"banana\", \"apple\"}``     | インデックス番号無し集合                |\n",
    "\n",
    "- タプルの定義，要素へのアクセス，スライス等はリストとほぼ同様\n",
    "- リストと異なり，**要素の書き換えはできない**\n"
   ]
  },
  {
   "cell_type": "markdown",
   "metadata": {
    "slideshow": {
     "slide_type": "slide"
    }
   },
   "source": [
    "## tupleを作る・使う, p.184-190\n",
    "\n",
    "テキストを参考に以下を実行しなさい。"
   ]
  },
  {
   "cell_type": "markdown",
   "metadata": {
    "slideshow": {
     "slide_type": "-"
    }
   },
   "source": [
    "Q. \"banana\", \"orange\", \"apple\", \"kiwi\"を要素とするタプルfruitを定義しなさい。"
   ]
  },
  {
   "cell_type": "code",
   "execution_count": 12,
   "metadata": {
    "slideshow": {
     "slide_type": "-"
    }
   },
   "outputs": [],
   "source": []
  },
  {
   "cell_type": "markdown",
   "metadata": {
    "slideshow": {
     "slide_type": "-"
    }
   },
   "source": [
    "Q. 前問で定義したfruitの最後の2つの要素をスライス(抜き出し)して表示しなさい。インデックスに負の整数を使うこと。"
   ]
  },
  {
   "cell_type": "code",
   "execution_count": 13,
   "metadata": {
    "slideshow": {
     "slide_type": "-"
    }
   },
   "outputs": [],
   "source": []
  },
  {
   "cell_type": "markdown",
   "metadata": {
    "slideshow": {
     "slide_type": "-"
    }
   },
   "source": [
    "Q. 0から4までの整数を要素とするタプルを関数`range()`を使って定義し，変数Lに代入しなさい"
   ]
  },
  {
   "cell_type": "code",
   "execution_count": 5,
   "metadata": {
    "slideshow": {
     "slide_type": "-"
    }
   },
   "outputs": [],
   "source": []
  },
  {
   "cell_type": "markdown",
   "metadata": {
    "slideshow": {
     "slide_type": "-"
    }
   },
   "source": [
    "Q. 前問で定義したLの各要素をa,b,c,d,eの各変数に一括代入しなさい"
   ]
  },
  {
   "cell_type": "code",
   "execution_count": 7,
   "metadata": {
    "slideshow": {
     "slide_type": "-"
    }
   },
   "outputs": [],
   "source": []
  },
  {
   "cell_type": "markdown",
   "metadata": {
    "slideshow": {
     "slide_type": "slide"
    }
   },
   "source": [
    "## タプル(tuple)への代入\n",
    "Q. タプルでは，要素への代入はできないが，変数に代入されているタプルの置き換えはできる。以下を参考にして確認しなさい。\n",
    "```python\n",
    "a=(1,2,3,5)\n",
    "a[3]=4      # 要素の書き換え\n",
    "a=(5,2,3)   # タプルの置き換え (タプル(5,2,3)のアドレスがaの参照先に)\n",
    "```"
   ]
  },
  {
   "cell_type": "code",
   "execution_count": null,
   "metadata": {
    "slideshow": {
     "slide_type": "-"
    }
   },
   "outputs": [],
   "source": []
  },
  {
   "cell_type": "markdown",
   "metadata": {
    "slideshow": {
     "slide_type": "slide"
    }
   },
   "source": [
    "# 辞書(dict)\n",
    "\n",
    "| 名前       |    例                       |                                                      |\n",
    "|-------------|----------------------------|------------------------------------------------------|\n",
    "| リスト(list)   | ``L=[\"kiwi\", \"banana\", \"apple\"]``  | インデックス番号付き集合                 |\n",
    "| タプル(tuple)| ``T=(\"kiwi\", \"banana\", \"apple\")``      |インデックス番号付き集合(代入不可)       |\n",
    "| **辞書(dict)**  | ``D={\"kiwi\":3, \"banana\":2, \"apple\":3}`` | **インデックス番号無し (key,value) 対応表** |\n",
    "| セット(set)   | ``S={\"kiwi\", \"banana\", \"apple\"}``     | インデックス番号無し集合                |            |"
   ]
  },
  {
   "cell_type": "markdown",
   "metadata": {
    "slideshow": {
     "slide_type": "slide"
    }
   },
   "source": [
    "## 辞書(dict)を作る, p.214\n",
    "\n",
    "**{key 1: value 1; key 2: value 2, ...}**\n",
    "\n",
    "keyが文字列，valueが数値の例\n",
    "```python\n",
    "reward={\"cheese\" : 100 , # リストや辞書等では，折返し記号\"\\\"なしで改行可\n",
    "             \"enemy\" : -10, \n",
    "             \"friend\" : -1}\n",
    "print(reward[\"friend\"])\n",
    "```\n",
    "key が タプルの例。valueが(状態(部屋番号), 行動)のペアになっている\n",
    "```\n",
    "Qvalue={(1,\"right\") : 0.5, \n",
    "              (1,\"left\") : 1.5, \n",
    "              (2,\"right\") : 0, \n",
    "              (2, \"left\") : -1} \n",
    "print(Qvalue[(2,\"right\")])\n",
    "```"
   ]
  },
  {
   "cell_type": "markdown",
   "metadata": {},
   "source": [
    "Q. `key`がタプルになっている要素数5程度の辞書を定義し，関数`len()`を使って，要素数の確認をしなさい。また，適当な`key`に対応する`value`を表示しなさい。"
   ]
  },
  {
   "cell_type": "code",
   "execution_count": null,
   "metadata": {
    "slideshow": {
     "slide_type": "-"
    }
   },
   "outputs": [],
   "source": []
  },
  {
   "cell_type": "markdown",
   "metadata": {
    "slideshow": {
     "slide_type": "slide"
    }
   },
   "source": [
    "## 辞書の更新・追加, p.218\n",
    "```python\n",
    "price={\"tomato\" : 200 , \n",
    "          \"banana\" : 100, \n",
    "          \"apple\" : 150}\n",
    "price[\"banana\"]=120  # key \"banana\"があればvalue変更，なければ要素追加\n",
    "price.setdefault(\"kiwi\",150) # key \"kiwi\"があればvalueを返し，なければ{\"kiwi\": 120}を追加\n",
    "```"
   ]
  },
  {
   "cell_type": "markdown",
   "metadata": {},
   "source": [
    "Q. 上記の辞書`price`に対して以下を実行すると，辞書`price`の要素はどう変化するだろうか。また，それぞれの命令文の返り値はどんな値だろうか。結果を予測し，それがあっているか確認せよ。\n",
    "```python\n",
    "price.setdefault(\"kiwi\",150)\n",
    "price.setdefault(\"banana\",150)\n",
    "```"
   ]
  },
  {
   "cell_type": "code",
   "execution_count": 14,
   "metadata": {
    "slideshow": {
     "slide_type": "-"
    }
   },
   "outputs": [],
   "source": []
  },
  {
   "cell_type": "markdown",
   "metadata": {
    "slideshow": {
     "slide_type": "slide"
    }
   },
   "source": [
    "## 辞書の参照, p.224\n",
    "\n",
    "### keyによる辞書の参照\n",
    "\n",
    "- 方法1: 直接辞書要素にアクセスする `dict[key]`\n",
    "- 方法2: `dict.get(key)` メソッドを使う"
   ]
  },
  {
   "cell_type": "markdown",
   "metadata": {},
   "source": [
    "Q. 前問と同じ辞書`price`に対して，以下のように要素にアクセスした結果を確認しなさい。また，メソッド`dict.get()`を使った場合，存在しないkeyにアクセスしたときの返り値は何であるかを確認しなさい。\n",
    "```python\n",
    "print(price[\"tomato\"])     # 直接辞書にアクセス\n",
    "print(price.get(\"tomato\")) # dic.get()でアクセス\n",
    "print(price.get(\"kiwi\")) # エラーは出ない\n",
    "print(price(\"kiwi\"))     # エラーになる\n",
    "```"
   ]
  },
  {
   "cell_type": "code",
   "execution_count": 13,
   "metadata": {
    "slideshow": {
     "slide_type": "-"
    }
   },
   "outputs": [],
   "source": []
  },
  {
   "cell_type": "markdown",
   "metadata": {
    "slideshow": {
     "slide_type": "slide"
    }
   },
   "source": [
    "###  辞書にkeyが無いときの返り値を指定\n",
    "\n",
    "**dict.get(key,[default])**\n",
    "- メソッド`dict.get()`は，存在しないkeyにアクセスした場合に返す値(default)を指定することができる。\n",
    "- 注) []で囲んだ引数は，省略可能なことを示す。\n",
    "\n",
    "Q. 前問の辞書`price`に対して，リスト`[\"apple\", \"kiwi\", \"tomato\"]`の各要素(`key`)に対する`value`を表示する命令文をfor文を用いて作りなさい。\n",
    "辞書に`key`が存在しないときの値は`dic.get()`の引数設定によって100と表示するようにしなさい。"
   ]
  },
  {
   "cell_type": "code",
   "execution_count": 13,
   "metadata": {
    "slideshow": {
     "slide_type": "-"
    }
   },
   "outputs": [],
   "source": []
  },
  {
   "cell_type": "markdown",
   "metadata": {
    "slideshow": {
     "slide_type": "slide"
    }
   },
   "source": [
    "## 辞書の値一覧, p.225\n",
    "\n",
    "- `dict.keys()`   # 辞書に含まれるkey一覧表示\n",
    "- `dict.values()` # 辞書に含まれるvalue一覧表示\n",
    "\n",
    "Q. 以下の辞書Qのすべての`key`および`value`の一覧をそれぞれ表示しなさい。\n",
    "```python\n",
    "Q={(1,\"right\") : 0.5, \n",
    "              (1,\"left\") : 1.5, \n",
    "              (2,\"right\") : 0, \n",
    "              (2, \"left\") : -1} \n",
    "```"
   ]
  },
  {
   "cell_type": "code",
   "execution_count": 8,
   "metadata": {
    "slideshow": {
     "slide_type": "-"
    }
   },
   "outputs": [],
   "source": []
  },
  {
   "cell_type": "markdown",
   "metadata": {
    "slideshow": {
     "slide_type": "slide"
    }
   },
   "source": [
    "## 関数とMutableな引数\n",
    "\n",
    "関数の引数(仮引数)の値を関数内で変更した場合，\n",
    "- 引数が**Immutable(変更不可)**な型ならば呼び出した側の引数(実引数)は変化しない(値渡し)\n",
    "    - immutableな型の例: int, float, str, tuple,...\n",
    "- **Mutable(変更可能)**ならば，実引数も変化する(参照渡し)\n",
    "    - mutableな型の例: list, dict, set,..."
   ]
  },
  {
   "cell_type": "markdown",
   "metadata": {
    "slideshow": {
     "slide_type": "-"
    }
   },
   "source": [
    "Q. 下記のプログラムの実行後，stateの値は変化しているだろうか。結果を予測し，確認しなさい。\n",
    "```python\n",
    "action_list=[\"right\", \"left\"]\n",
    "\n",
    "def new_state(s,a):\n",
    "    if not a in action_list:\n",
    "        print(\"invalid action\")\n",
    "        return(False)\n",
    "    elif a==\"right\":\n",
    "        s+=1\n",
    "    else:\n",
    "        s-=1\n",
    "    return(s)\n",
    "\n",
    "state=3\n",
    "print(new_state(state,\"right\"))\n",
    "```"
   ]
  },
  {
   "cell_type": "code",
   "execution_count": null,
   "metadata": {
    "slideshow": {
     "slide_type": "-"
    }
   },
   "outputs": [],
   "source": []
  },
  {
   "cell_type": "markdown",
   "metadata": {
    "slideshow": {
     "slide_type": "slide"
    }
   },
   "source": [
    "## Mutableな引数\n",
    "\n",
    "Q. 下記のように関数`appen_action()`を作って，リスト`action_list`を更新しようとしてみた。\n",
    "\n",
    "1. 関数`appen_action()`を呼び出した後，リスト`action_list` の要素は変化しているかどうかを確認しなさい。\n",
    "2. もし，`action_list()`がリストではなくタプルだった場合はどうだろう?\n",
    "\n",
    "```python\n",
    "action_list=[\"right\", \"left\"]\n",
    "\n",
    "def append_action(list,a):\n",
    "        list.append(a)\n",
    "\n",
    "append_action(action_list,\"up\")\n",
    "```"
   ]
  },
  {
   "cell_type": "code",
   "execution_count": 2,
   "metadata": {
    "slideshow": {
     "slide_type": "-"
    }
   },
   "outputs": [],
   "source": []
  },
  {
   "cell_type": "markdown",
   "metadata": {
    "slideshow": {
     "slide_type": "slide"
    }
   },
   "source": [
    "## 練習問題\n",
    "\n",
    "以下のように，辞書(dict) `Q` とリスト`action_list`がある。\n",
    "- `Q` は状態行動ペア`(s, a)`に対する状態行動価値関数Qの値(Q値)を格納している。\n",
    "- `action_list`はとりうる行動のリストである。\n",
    "\n",
    "```\n",
    "Q={(1,\"right\") : 0.5, \n",
    "    (1,\"left\") : 1.5, \n",
    "    (1,\"up\") : 1.0,\n",
    "    (1,\"down\") : 1.0,\n",
    "    (2,\"right\") : 1.0, \n",
    "    (2, \"left\") : 1.0,\n",
    "    (2, \"up\") :   0.0,\n",
    "  }\n",
    "action_list=[\"right\",\"left\",\"up\", \"down\"]\n",
    "```\n",
    "以下のプログラムを作りなさい。"
   ]
  },
  {
   "cell_type": "markdown",
   "metadata": {
    "slideshow": {
     "slide_type": "slide"
    }
   },
   "source": [
    "Q1. 以下の仕様を満たす関数`get_maxQ(s,q0)`を書きなさい。また，**動作確認**をしなさい。\n",
    "- 引数:\n",
    "    - s : 状態\n",
    "    - q0 : `Q`に未定義なkey`(s,a)`に対するQ値。デフォルト値は0.0\n",
    "- 返り値: 引数の状態sに対して，Q値が最大値をとる最適行動を選択した場合の以下の値\n",
    "    - Q値\n",
    "    - Q値を最大にする行動がリスト`action_list`の要素のいずれであるか，そのインデックスのリスト\n",
    "- その他:\n",
    "    - 最適行動を求める際，`Q`にない`(s,a)`に対するQ値はq0とする。(以下の`Q`の例では`(2,\"down\")`が未定義。`list.get()`の引数で処理する)\n",
    "    - すでに作成している関数`index_list()`も利用して良い\n",
    "- ヒント\n",
    "    1. 指定されたsに対し，`action_list`内の各行動とのペアに対するQ値の一覧リスト`qlist`を作る\n",
    "    2. Q値の最大値`maxq`を求める\n",
    "    3. `qlist`の要素のうち，値が`maxq`であるもののインデックスをリスト化する。(以前作成した関数`index_list()`を用いても良い)\n",
    "\n",
    "```python\n",
    "Q={\n",
    "   ...     # 上にある辞書を使う\n",
    "  }\n",
    "\n",
    "action_list=[\"right\",\"left\",\"up\", \"down\"]\n",
    "\n",
    "index_list = lambda ... # 以前の問の答を使う\n",
    "\n",
    "def get_maxQ(s,q0=0.0):\n",
    "    qlist=[Q.get((s, a)...   #　ここから書く\n",
    "           \n",
    "    ...\n",
    "           \n",
    "    return maxq, argmaxq\n",
    "```"
   ]
  },
  {
   "cell_type": "code",
   "execution_count": 10,
   "metadata": {
    "slideshow": {
     "slide_type": "-"
    }
   },
   "outputs": [],
   "source": []
  },
  {
   "cell_type": "code",
   "execution_count": 11,
   "metadata": {},
   "outputs": [],
   "source": []
  },
  {
   "cell_type": "markdown",
   "metadata": {
    "slideshow": {
     "slide_type": "slide"
    }
   },
   "source": [
    "Q2.以下の仕様を満たす関数`get_action(s)`を書きなさい。また，**動作確認**をしなさい。\n",
    "- 引数\n",
    "    - s: 状態\n",
    "    - epsilon : ランダム選択の確率。デフォルト値は0.1\n",
    "    - q0 : 未定義なQ値に対する値。デフォルト値は0.0\n",
    "- 返り値: 状態sとQ値に基づいて以下のように決定した行動\n",
    "    - 確率`epsilon`で，とりうる全ての行動の中からランダムに行動選択  (`random.choice()`を使う)\n",
    "    - 上記以外の場合は**Q値が最大となる行動**。\n",
    "        - 辞書`Q`に定義されていない状態行動ペア`(s,a)`に対するQ値は`q0`として，最適行動を決定する。\n",
    "        - **最大値をとる行動が複数あるときには， どれか一つをランダムに選択**する\n",
    "- その他: 前問でつくった`get_Qmax()`を呼び出して使って良い\n",
    "- 動作確認: 上で定義されている`Q`を使って以下を確認する。\n",
    "    - `epsilon=0`の場合は，`s=1`に対しては\"left\", `s=2`に対しては\"right\"と\"left\"がランダムに選択されること\n",
    "    - `epsilon`の値に応じてランダム選択の比率が適切に変わること\n",
    "- ヒント\n",
    "    1. `get_maxQ()`を使って，Q値が最大となるactionのインデックのリスト`argmaxq`を取得\n",
    "    2. `argmaxq`からランダム選択したインデックスに対応するactionが返り値。Q値が最大値となるactionが1個の場合もそうでない場合も，この方法で最適行動を選択できる(わからなければよく考えましょう)\n",
    "\n",
    "```python\n",
    "import random as ra\n",
    "\n",
    "def get_action(s, epsilon=0.1):\n",
    "    if ra.random() < epsilon:\n",
    "        ret=               # 右辺を書く\n",
    "    else:\n",
    "        maxq, argmaxq=...   # このあとのプログラムを考える\n",
    "\n",
    "        ret=...\n",
    "       \n",
    "    return(ret)\n",
    "```"
   ]
  },
  {
   "cell_type": "code",
   "execution_count": 4,
   "metadata": {
    "slideshow": {
     "slide_type": "-"
    }
   },
   "outputs": [],
   "source": []
  },
  {
   "cell_type": "code",
   "execution_count": 16,
   "metadata": {},
   "outputs": [],
   "source": []
  }
 ],
 "metadata": {
  "celltoolbar": "Slideshow",
  "kernelspec": {
   "display_name": "Python 3",
   "language": "python",
   "name": "python3"
  },
  "language_info": {
   "codemirror_mode": {
    "name": "ipython",
    "version": 3
   },
   "file_extension": ".py",
   "mimetype": "text/x-python",
   "name": "python",
   "nbconvert_exporter": "python",
   "pygments_lexer": "ipython3",
   "version": "3.5.2"
  },
  "nbTranslate": {
   "displayLangs": [
    "*"
   ],
   "hotkey": "alt-t",
   "langInMainMenu": true,
   "sourceLang": "en",
   "targetLang": "fr",
   "useGoogleTranslate": true
  },
  "toc": {
   "base_numbering": 1,
   "nav_menu": {},
   "number_sections": true,
   "sideBar": true,
   "skip_h1_title": false,
   "title_cell": "Table of Contents",
   "title_sidebar": "Contents",
   "toc_cell": false,
   "toc_position": {},
   "toc_section_display": true,
   "toc_window_display": false
  }
 },
 "nbformat": 4,
 "nbformat_minor": 2
}
