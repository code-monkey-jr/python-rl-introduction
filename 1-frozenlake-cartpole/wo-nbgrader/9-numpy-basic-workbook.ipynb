{
 "cells": [
  {
   "cell_type": "markdown",
   "metadata": {
    "slideshow": {
     "slide_type": "slide"
    }
   },
   "source": [
    "# 宿題シート: Numpy-basic\n",
    "\n",
    "- このシートには第2回レポート課題のために必要な知識の説明があります。\n",
    "- このシート自体を提出する必要はありません。レポート課題については別のシートを見てください。"
   ]
  },
  {
   "cell_type": "markdown",
   "metadata": {
    "slideshow": {
     "slide_type": "slide"
    }
   },
   "source": [
    "# NumPyモジュール, p.344\n",
    "\n",
    "[NumPy](http://www.numpy.org/)について\n",
    "- **N次元配列(ベクトル, 行列等)**を定義し， **基本的な数値計算を行うための関数やメソッド群**が定義されているモジュール。\n",
    "- NumPyモジュールで生成する配列の型名は`numpy.ndarray`\n",
    "\n",
    "\n",
    "## 関数とメソッド\n",
    "\n",
    "- 配列`ndarray`の**生成**や，**複数の配列に対する操作**(結合等)\n",
    "    - NumPyの**関数**を使う\n",
    "- すで生成されている`ndarray`オブジェクトの**加工**\n",
    "    - `ndarray`に対する**メソッド**を使う\n",
    "- 以下では，NumPyの関数とメソッドの説明の際に，両者を以下のように書いて区別する\n",
    "    - **関数**: `numpy.array()`等と`numpy`をつける\n",
    "    - **メソッド**: `ndarray.reshape()`等と`ndarray`をつける\n",
    "\n",
    "\n",
    "## モジュールの読み込み\n",
    "\n",
    "NumPyモジュールは，慣例的に`np`の名称で利用される。\n",
    "\n",
    "```python\n",
    "import numpy as np\n",
    "print(np.__version__) # numpyのバージョンの表示\n",
    "```"
   ]
  },
  {
   "cell_type": "code",
   "execution_count": 2,
   "metadata": {},
   "outputs": [],
   "source": []
  },
  {
   "cell_type": "markdown",
   "metadata": {},
   "source": [
    "## NumPyのマニュアル\n",
    "\n",
    "以下で`NumPy`のマニュアルを表示できる。\n",
    "```python\n",
    "np?\n",
    "```"
   ]
  },
  {
   "cell_type": "code",
   "execution_count": null,
   "metadata": {},
   "outputs": [],
   "source": []
  },
  {
   "cell_type": "markdown",
   "metadata": {},
   "source": [
    "# 配列`ndarray`の生成, p.344\n",
    "\n",
    "参考資料\n",
    "- NumPyの説明は，以下をいろいろと参考にしています。\n",
    "- [Python Data Science Handbook: \"The Basics of NumPy Arrays\"](https://github.com/jakevdp/PythonDataScienceHandbook/blob/master/notebooks/02.02-The-Basics-Of-NumPy-Arrays.ipynb)\n",
    "\n",
    "## `list`や`tuple`を使った配列`ndarray`の生成\n",
    "\n",
    "関数`numpy.array()`で，`list`や`tuple`を`numpy.ndarray`に変換できる。\n",
    "\n",
    "```python\n",
    "x=np.array([1,2,3])\n",
    "\n",
    "l=[1,3,5]\n",
    "y=np.array(l)\n",
    "\n",
    "t=(2,4,6)\n",
    "z=np.array(t)\n",
    "```\n",
    "\n",
    "**Q.** `x`, `y`, `z`の値と型(type)を確認しなさい。"
   ]
  },
  {
   "cell_type": "code",
   "execution_count": 4,
   "metadata": {},
   "outputs": [],
   "source": []
  },
  {
   "cell_type": "markdown",
   "metadata": {},
   "source": [
    "## 要素の型\n",
    "\n",
    "listの要素はいろいろな型を混在させることができる。一方，Numpyの配列の各要素は同じ型でないといけない。\n",
    "\n",
    "NumPyオブジェクトの要素の型(`dtype`)は自動判定されるが，引数`dtype`を用いて陽に定義することもできる。\n",
    "```python\n",
    "x=np.array([1, 2.1, 3], dtype='float32')\n",
    "print(x.dtype) # 要素の型の確認\n",
    "```\n",
    "\n",
    "**Q.** 以下のように，`int` と `float` を混在して定義した場合，各要素の型はどうなるかを確認しなさい。\n",
    "```python\n",
    "y=np.array([1, 2.1, 3])\n",
    "```"
   ]
  },
  {
   "cell_type": "code",
   "execution_count": 3,
   "metadata": {},
   "outputs": [],
   "source": []
  },
  {
   "cell_type": "markdown",
   "metadata": {},
   "source": [
    "## 配列`ndarray`のいろいろな生成方法, p.372"
   ]
  },
  {
   "cell_type": "markdown",
   "metadata": {},
   "source": [
    "**問題** 以下の配列`ndarray`を作りなさい。いずれも**`NumPy`の関数を用いた出来るだけ簡単な方法**を使うこと。"
   ]
  },
  {
   "cell_type": "markdown",
   "metadata": {},
   "source": [
    "Q. 要素数10の配列。要素値の初期化はしない。"
   ]
  },
  {
   "cell_type": "code",
   "execution_count": 4,
   "metadata": {},
   "outputs": [],
   "source": []
  },
  {
   "cell_type": "markdown",
   "metadata": {},
   "source": [
    "Q. 全ての要素値が0, 要素数10の配列"
   ]
  },
  {
   "cell_type": "code",
   "execution_count": 5,
   "metadata": {},
   "outputs": [],
   "source": []
  },
  {
   "cell_type": "markdown",
   "metadata": {},
   "source": [
    "Q. 全ての要素値が0の 2x3の二次元配列"
   ]
  },
  {
   "cell_type": "code",
   "execution_count": 6,
   "metadata": {},
   "outputs": [],
   "source": []
  },
  {
   "cell_type": "markdown",
   "metadata": {},
   "source": [
    "Q. 全ての要素値が1, 要素数5の配列。ただし，要素の型はintに陽に指定(引数`dtype`を使って指定する)"
   ]
  },
  {
   "cell_type": "code",
   "execution_count": 7,
   "metadata": {},
   "outputs": [],
   "source": []
  },
  {
   "cell_type": "markdown",
   "metadata": {},
   "source": [
    "Q. 全ての要素値が1の 3x4の2次元配列"
   ]
  },
  {
   "cell_type": "code",
   "execution_count": 8,
   "metadata": {},
   "outputs": [],
   "source": []
  },
  {
   "cell_type": "markdown",
   "metadata": {},
   "source": [
    "Q. 全ての要素値が`np.pi`である要素数5の配列"
   ]
  },
  {
   "cell_type": "code",
   "execution_count": 9,
   "metadata": {},
   "outputs": [],
   "source": []
  },
  {
   "cell_type": "markdown",
   "metadata": {},
   "source": [
    "Q. 各要素の値が1から6の整数である要素数6の配列(`NumPy.arange()`を使う)"
   ]
  },
  {
   "cell_type": "code",
   "execution_count": 10,
   "metadata": {},
   "outputs": [],
   "source": []
  },
  {
   "cell_type": "markdown",
   "metadata": {},
   "source": [
    "Q. 各要素の値が0以上2**未満**の等差0.2の数列である配列。ただし，要素の型は`float64`とする。\n",
    "(`numpy.arange()`を使う)"
   ]
  },
  {
   "cell_type": "code",
   "execution_count": 11,
   "metadata": {},
   "outputs": [],
   "source": []
  },
  {
   "cell_type": "markdown",
   "metadata": {},
   "source": [
    "Q. 0以上2**以下**の区間を等間隔に区切る11個の値を要素とする配列(`numpy.linspace()`を使う)"
   ]
  },
  {
   "cell_type": "code",
   "execution_count": 12,
   "metadata": {},
   "outputs": [],
   "source": []
  },
  {
   "cell_type": "markdown",
   "metadata": {},
   "source": [
    "Q. 3x3の恒等行列"
   ]
  },
  {
   "cell_type": "code",
   "execution_count": 13,
   "metadata": {},
   "outputs": [],
   "source": []
  },
  {
   "cell_type": "markdown",
   "metadata": {},
   "source": [
    "## 乱数による配列の初期化, p.377\n",
    "\n",
    "**問題** 以下の配列`ndarray`を作りなさい。いずれも**`NumPy`の関数を用いた出来るだけ簡単な方法**を使うこと。"
   ]
  },
  {
   "cell_type": "markdown",
   "metadata": {},
   "source": [
    "Q. 要素値が0から1の一様乱数である，2x3の2次元配列(NumPyの乱数関数`numpy.random.rand()`を使う。)"
   ]
  },
  {
   "cell_type": "code",
   "execution_count": 14,
   "metadata": {},
   "outputs": [],
   "source": []
  },
  {
   "cell_type": "markdown",
   "metadata": {},
   "source": [
    "Q. 0以上5**以下**の整数乱数を要素とする, 2x2x2の3次元配列(NumPyの乱数関数`numpy.random.randint()`を使う)"
   ]
  },
  {
   "cell_type": "code",
   "execution_count": 4,
   "metadata": {},
   "outputs": [],
   "source": []
  },
  {
   "cell_type": "markdown",
   "metadata": {},
   "source": [
    "Q. 平均0, 標準偏差1の正規分布乱数を要素とする，要素数10の配列(NumPyの乱数関数`numpy.random.randn()`もしくは`numpy.random.randnormal()`を使う)"
   ]
  },
  {
   "cell_type": "code",
   "execution_count": 16,
   "metadata": {},
   "outputs": [],
   "source": []
  },
  {
   "cell_type": "markdown",
   "metadata": {},
   "source": [
    "## NumPy配列に関する情報\n",
    "**問題** `x = np.random.randint(6, size=(2,2))`に関する以下の情報を表示しなさい"
   ]
  },
  {
   "cell_type": "markdown",
   "metadata": {},
   "source": [
    "Q. 次元(`ndim`)"
   ]
  },
  {
   "cell_type": "code",
   "execution_count": 17,
   "metadata": {},
   "outputs": [],
   "source": []
  },
  {
   "cell_type": "markdown",
   "metadata": {},
   "source": [
    "Q. 形(`shape`), p.348"
   ]
  },
  {
   "cell_type": "code",
   "execution_count": 18,
   "metadata": {},
   "outputs": [],
   "source": []
  },
  {
   "cell_type": "markdown",
   "metadata": {},
   "source": [
    "Q. 要素数(`size`)"
   ]
  },
  {
   "cell_type": "code",
   "execution_count": 19,
   "metadata": {},
   "outputs": [],
   "source": []
  },
  {
   "cell_type": "markdown",
   "metadata": {},
   "source": [
    "# 配列の参照, p.353\n",
    "## 1次元配列の参照\n",
    "\n",
    "NumPy配列要素の値を参照する方法は，リスト(`list`)の参照方法と同様にインデックスに`[begin,end,step]`と範囲指定することで行える。\n",
    "\n",
    "**問題** `x=np.arange(1,7)`について，以下の各問にある要素を参照する方法を書き，その結果に間違いがないか確認しなさい。"
   ]
  },
  {
   "cell_type": "markdown",
   "metadata": {},
   "source": [
    "Q. `x`の要素一覧"
   ]
  },
  {
   "cell_type": "code",
   "execution_count": 20,
   "metadata": {},
   "outputs": [],
   "source": []
  },
  {
   "cell_type": "markdown",
   "metadata": {},
   "source": [
    "Q. `x`の，一番はじめの要素"
   ]
  },
  {
   "cell_type": "code",
   "execution_count": 21,
   "metadata": {},
   "outputs": [],
   "source": []
  },
  {
   "cell_type": "markdown",
   "metadata": {},
   "source": [
    "`x`の，最後から2番目の要素(インデックスに負の値を使う)"
   ]
  },
  {
   "cell_type": "code",
   "execution_count": 22,
   "metadata": {},
   "outputs": [],
   "source": []
  },
  {
   "cell_type": "markdown",
   "metadata": {},
   "source": [
    "はじめの3つの要素"
   ]
  },
  {
   "cell_type": "code",
   "execution_count": 23,
   "metadata": {},
   "outputs": [],
   "source": []
  },
  {
   "cell_type": "markdown",
   "metadata": {},
   "source": [
    "Q. 最後の3つの要素"
   ]
  },
  {
   "cell_type": "code",
   "execution_count": 24,
   "metadata": {},
   "outputs": [],
   "source": []
  },
  {
   "cell_type": "markdown",
   "metadata": {},
   "source": [
    "Q. はじめの要素から，一つおきに要素値を表示"
   ]
  },
  {
   "cell_type": "code",
   "execution_count": 25,
   "metadata": {},
   "outputs": [],
   "source": []
  },
  {
   "cell_type": "markdown",
   "metadata": {},
   "source": [
    "Q. 要素を逆順に表示 (インデックス指定のステップ値に負の値を使う)"
   ]
  },
  {
   "cell_type": "code",
   "execution_count": 26,
   "metadata": {},
   "outputs": [],
   "source": []
  },
  {
   "cell_type": "markdown",
   "metadata": {},
   "source": [
    "## ２次元配列の参照\n",
    "\n",
    "`ndarray`の2次元配列では，行および列それぞれに対する範囲を`[行に対する範囲,列に対する範囲]`と指定することで参照・スライスできる。\n",
    "\n",
    "**問題** `x2=np.array([[1,2,3,4],[5,6,7,8],[9,10,11,12]])`について，以下の各問にある要素を参照する方法を書き，その結果に間違いがないか確認しなさい。"
   ]
  },
  {
   "cell_type": "markdown",
   "metadata": {},
   "source": [
    "Q. 要素一覧"
   ]
  },
  {
   "cell_type": "code",
   "execution_count": 27,
   "metadata": {},
   "outputs": [],
   "source": []
  },
  {
   "cell_type": "markdown",
   "metadata": {},
   "source": [
    "Q. 初めの行のみ"
   ]
  },
  {
   "cell_type": "code",
   "execution_count": 28,
   "metadata": {},
   "outputs": [],
   "source": []
  },
  {
   "cell_type": "markdown",
   "metadata": {},
   "source": [
    "Q. 最後の列のみ"
   ]
  },
  {
   "cell_type": "code",
   "execution_count": 29,
   "metadata": {},
   "outputs": [],
   "source": []
  },
  {
   "cell_type": "markdown",
   "metadata": {},
   "source": [
    "Q. 初めの2行かつ，はじめの3列以内の要素"
   ]
  },
  {
   "cell_type": "code",
   "execution_count": 30,
   "metadata": {},
   "outputs": [],
   "source": []
  },
  {
   "cell_type": "markdown",
   "metadata": {},
   "source": [
    "Q. 奇数番目の列と全ての行要素できる行列"
   ]
  },
  {
   "cell_type": "code",
   "execution_count": 31,
   "metadata": {},
   "outputs": [],
   "source": []
  },
  {
   "cell_type": "markdown",
   "metadata": {},
   "source": [
    "Q. `x2`の右下部分の要素でできる2x2部分行列(インデックスに負の値を使う)"
   ]
  },
  {
   "cell_type": "code",
   "execution_count": 32,
   "metadata": {},
   "outputs": [],
   "source": []
  },
  {
   "cell_type": "markdown",
   "metadata": {},
   "source": []
  },
  {
   "cell_type": "markdown",
   "metadata": {},
   "source": [
    "Q. 行を逆順にする。(列順は変えない)"
   ]
  },
  {
   "cell_type": "code",
   "execution_count": 33,
   "metadata": {},
   "outputs": [],
   "source": []
  },
  {
   "cell_type": "markdown",
   "metadata": {},
   "source": [
    "## 配列のコピー\n",
    "\n",
    "Q. 以下を実行すると，`x2`と`x3`の要素値は最終的にはどうなるだろうか。予想し，その予想結果が正しいか確認しなさい。\n",
    "```python\n",
    "x2=np.array([[1,2,3,4],[5,6,7,8],[9,10,11,12]])\n",
    "x3=x2\n",
    "x2[0,0]=100\n",
    "x3[-1,-1]=200```"
   ]
  },
  {
   "cell_type": "code",
   "execution_count": 34,
   "metadata": {},
   "outputs": [],
   "source": []
  },
  {
   "cell_type": "markdown",
   "metadata": {},
   "source": [
    "Q. 以下を実行すると，x3の要素値は最終的にはどうなるだろうか。予想し，その予想結果が正しいか確認しなさい。\n",
    "\n",
    "```python\n",
    "x2=np.array([[1,2,3,4],[5,6,7,8],[9,10,11,12]])\n",
    "x3=x2.copy()\n",
    "x2[0,0]=100\n",
    "```"
   ]
  },
  {
   "cell_type": "code",
   "execution_count": 35,
   "metadata": {},
   "outputs": [],
   "source": []
  },
  {
   "cell_type": "markdown",
   "metadata": {},
   "source": [
    "## 配列の変形, p.348\n",
    "\n",
    "### 1次元配列の多次元化: `ndarray.reshape()`\n",
    "\n",
    "`ndarray.reshape()`メソッドにより，例えば要素数9の1次元配列を3x3の2次元配列に変形できる。ただし，`ndarray.reshape()`メソッドは**要素を格納するアドレスは変更しない**で，配列の属性`shape`のみを変える。"
   ]
  },
  {
   "cell_type": "markdown",
   "metadata": {},
   "source": [
    "Q. 以下を実行した場合，`x`, `y`の値はどうなるだろうか。予想してから実行し，確認しなさい。\n",
    "\n",
    "```python\n",
    "x=np.arange(9)\n",
    "y=x.reshape(3,3)\n",
    "y[0,0]=10\n",
    "```"
   ]
  },
  {
   "cell_type": "code",
   "execution_count": 36,
   "metadata": {},
   "outputs": [],
   "source": []
  },
  {
   "cell_type": "markdown",
   "metadata": {},
   "source": [
    "Q. NumPyの関数`numpy.arange()`とメソッド`ndarray.reshape()`を使って，以下のような3x3行列を，1命令文で作りなさい。\n",
    "```python\n",
    "array([[0, 1, 2],\n",
    "       [3, 4, 5],\n",
    "       [6, 7, 8]])\n",
    "```"
   ]
  },
  {
   "cell_type": "code",
   "execution_count": 37,
   "metadata": {},
   "outputs": [],
   "source": []
  },
  {
   "cell_type": "markdown",
   "metadata": {},
   "source": [
    "Q. `x=np.arange(1,9)`を`reshape()`メソッドにより，列数1の2次元配列に変形しなさい。また，結果が以下で得られる`z`と等しいことを幾人しなさい。\n",
    "```python\n",
    "x=... <= 右辺は自分で作る\n",
    "y=np.arange(1,9)\n",
    "z=y[:,np.newaxis]\n",
    "x==z\n",
    "```"
   ]
  },
  {
   "cell_type": "code",
   "execution_count": 38,
   "metadata": {},
   "outputs": [],
   "source": []
  },
  {
   "cell_type": "markdown",
   "metadata": {},
   "source": [
    "## 配列の要素の追加, p.349\n",
    "- `numpy.append()`"
   ]
  },
  {
   "cell_type": "markdown",
   "metadata": {},
   "source": [
    "Q. `x=np.array([1,2,3])` の要素の最後に[5,6]を追加し，要素が[1,2,3,5,6]であるndarrayを作りなさい。"
   ]
  },
  {
   "cell_type": "code",
   "execution_count": null,
   "metadata": {},
   "outputs": [],
   "source": []
  },
  {
   "cell_type": "markdown",
   "metadata": {},
   "source": [
    "Q. 配列`x=np.zeros(4).reshape(2,2)`に`[1,1]`を追加し，以下の配列を作る方法を示しなさい。\n",
    "```python\n",
    "[[0., 0.],\n",
    " [0., 0.],\n",
    " [1., 1.]]\n",
    "```"
   ]
  },
  {
   "cell_type": "code",
   "execution_count": 40,
   "metadata": {},
   "outputs": [],
   "source": []
  },
  {
   "cell_type": "markdown",
   "metadata": {},
   "source": [
    "# 配列の計算\n",
    "\n",
    "C言語で配列の演算をするときには，for文による処理が必要だが，NumPyでは，for文を使わないで配列の全要素に対する演算をできるメソッドが用意されている。\n",
    "\n",
    "**重要:** 配列に対する演算は**for文を使うと演算時間が非常に長くなる**。できるだけ`for`文は使わない方法を用いること。"
   ]
  },
  {
   "cell_type": "markdown",
   "metadata": {},
   "source": [
    "## 四則演算\n",
    "\n",
    "ndarray配列の四則演算は，以下のように演算子(`+`,`-`,`*`等)を使う方法とと関数を使う方法がある。\n",
    "\n",
    "- ndarray**配列同士の四則演算は各要素同士の演算**となる。\n",
    "- ndarray**配列に対するスカラー値の加減乗除は配列の各要素に対する演算**となる。\n",
    "\n",
    "演算子|関数\n",
    "----|--------------\n",
    "`+` |`np.add()`\n",
    "`-` |`np.subtract()`\n",
    "`-` |`np.negative()`\n",
    "`-` |`np.multiply()`\n",
    "`/` |`np.divide()`\n",
    "`//`|`np.floor_divide()`\n",
    "`%` | `np.mod()`\n",
    "`**`|`np.power()`\n",
    "\n",
    "\n",
    "\n",
    "例)\n",
    "```python\n",
    "x=np.arange(1,6)\n",
    "print(x+2)\n",
    "print(x*2)\n",
    "print(x/2)\n",
    "print(x//2)\n",
    "print(x**2)\n",
    "```"
   ]
  },
  {
   "cell_type": "code",
   "execution_count": 15,
   "metadata": {},
   "outputs": [],
   "source": []
  },
  {
   "cell_type": "markdown",
   "metadata": {},
   "source": [
    "## いろいろな関数\n",
    "\n",
    "ndarray配列の各要素に対する演算のためのいろいろな関数がある。\n",
    "\n",
    "```python\n",
    "np.abs()\n",
    "np.exp()\n",
    "np.exp2()\n",
    "np.power()\n",
    "np.sin()\n",
    "np.cos()\n",
    "np.tan()\n",
    "np.ln()\n",
    "np.log()\n",
    "np.log2()\n",
    "```"
   ]
  },
  {
   "cell_type": "markdown",
   "metadata": {},
   "source": [
    "### 総和\n",
    "\n",
    "`l=np.arange(1,11)`に各要素の総和は以下のように求めることができる。\n",
    "```python\n",
    "sum=0\n",
    "for x in np.arange(1,11):\n",
    "    sum+=x\n",
    "print(sum)\n",
    "```\n",
    "\n",
    "`numpy.sum()`は，ndarry配列の各要素の総和を返す関数`numpy.sum()`を使うと，上記のプログラムを以下のように簡潔に書くことができる。\n",
    "```python\n",
    "l=np.arange(1,11)\n",
    "np.sum(l)\n",
    "```"
   ]
  },
  {
   "cell_type": "code",
   "execution_count": 22,
   "metadata": {},
   "outputs": [],
   "source": []
  },
  {
   "cell_type": "markdown",
   "metadata": {},
   "source": [
    "**Q**. 以下のような関数`softmax()`を作りなさい。\n",
    "\n",
    "- 引数:\n",
    "    - `l`: `ndarray`配列\n",
    "- 返値:\n",
    "    - 引数`l`の各要素値を，softmax法による値に変換した`ndarray`\n",
    "    - 例) 引数が`l=[1,3,4]`の場合は，以下を計算した値が返り値。\n",
    "\n",
    "        $\\displaystyle[\\frac{e^{1}}{L},\\frac{e^{3}}{L},\\frac{e^{4}}{L}]$, ただし，$L=e^{1}+e^{3}+e^{4}$\n",
    "- **動作確認:** 以下を実行すると，いずれの場合も各要素の値がTrueの配列を得られることとを確認しなさい。\n",
    "\n",
    "```python\n",
    "def softmax(l):\n",
    "    # ここを書く\n",
    "\n",
    "# ここから動作検証\n",
    "l1=np.array([0.0,1.0])\n",
    "print(softmax(l1)==np.array([1.0,np.e])/(1.0+np.e))\n",
    "\n",
    "l2=np.array([-1.0,0.0,1.0])\n",
    "print(softmax(l2)==np.array([1.0/np.e,1.0,np.e])/(1.0/np.e+1.0+np.e))\n",
    "```"
   ]
  },
  {
   "cell_type": "code",
   "execution_count": 20,
   "metadata": {},
   "outputs": [],
   "source": []
  },
  {
   "cell_type": "markdown",
   "metadata": {},
   "source": [
    "## softmax法\n",
    "**Q.** 以下のような関数`softmax_rand()`を作りなさい。\n",
    "\n",
    "- 引数:\n",
    "    - `V`: `ndarray`配列\n",
    "    - `T=1`: softmax法のパラメータ\n",
    "- 返値:\n",
    "    - 引数`V`の各要素値に対してsoftmax法を適用した確率で、そのインデックスをランダムに返す。\n",
    "    - 例) 引数が`l=[1,3,4]`の場合は，ランダムに各要素のインデックスを返すが、インデックス`k`が選択される確率$P(k)$ ($k=0,1,2$)は次式の通り。\n",
    "    \n",
    "    $$\\displaystyle P(k)=\\frac{e^\\frac{V(k)}{T}}{\\displaystyle\\sum_{i=0}^{N-1}e^\\frac{V(i)}{T}}$$\n",
    "\n",
    "- **動作確認:** 以下を確認しなさい。\n",
    "    - `softmax_rand(l=[1,1])`の返り値は0か1であり、その比率は1:1である。\n",
    "    - `softmax_rand(l=[0,log2,1])`の返り値は0か1か2であり、その比率は1:2:eである。"
   ]
  },
  {
   "cell_type": "code",
   "execution_count": 20,
   "metadata": {},
   "outputs": [],
   "source": []
  },
  {
   "cell_type": "markdown",
   "metadata": {},
   "source": [
    "**Q2.** 前問で作った`softmax_rand()`の動作確認のため以下を行いなさい。\n",
    "\n",
    "1. 動作確認用のための以下のような関数`test()`を作りなさい。\n",
    "        - 引数\n",
    "            - `l`: リスト(要素は数値)\n",
    "            - `T=1`: softmax法のパラメータ\n",
    "            - `num`: 確率発生回数\n",
    "        - 動作\n",
    "            - 引数`l`,`T`を`softmax_rand()`に渡し、`num`回乱数を発生させる。その乱数値が、引数`l`の各要素のインデックスに何回該当したかを表示する。\n",
    "2. 関数`test()`を使って以下を確認しなさい。\n",
    "    - `softmax_rand(l=[1,1],T=1)`の返り値は0か1であり、その比率はほぼ1:1である。\n",
    "    - `softmax_rand(l=[0,log2,1],T=1)`の返り値は0か1か2であり、その比率はほぼ1:2:eである。"
   ]
  },
  {
   "cell_type": "code",
   "execution_count": 19,
   "metadata": {},
   "outputs": [],
   "source": []
  },
  {
   "cell_type": "code",
   "execution_count": null,
   "metadata": {},
   "outputs": [],
   "source": []
  }
 ],
 "metadata": {
  "kernelspec": {
   "display_name": "Python 3",
   "language": "python",
   "name": "python3"
  },
  "language_info": {
   "codemirror_mode": {
    "name": "ipython",
    "version": 3
   },
   "file_extension": ".py",
   "mimetype": "text/x-python",
   "name": "python",
   "nbconvert_exporter": "python",
   "pygments_lexer": "ipython3",
   "version": "3.5.2"
  },
  "nbTranslate": {
   "displayLangs": [
    "*"
   ],
   "hotkey": "alt-t",
   "langInMainMenu": true,
   "sourceLang": "en",
   "targetLang": "fr",
   "useGoogleTranslate": true
  },
  "nteract": {
   "version": "nteract-on-jupyter@1.9.6"
  },
  "toc": {
   "base_numbering": 1,
   "nav_menu": {},
   "number_sections": true,
   "sideBar": true,
   "skip_h1_title": false,
   "title_cell": "Table of Contents",
   "title_sidebar": "Contents",
   "toc_cell": false,
   "toc_position": {
    "height": "calc(100% - 180px)",
    "left": "10px",
    "top": "150px",
    "width": "260.17px"
   },
   "toc_section_display": true,
   "toc_window_display": false
  }
 },
 "nbformat": 4,
 "nbformat_minor": 2
}
