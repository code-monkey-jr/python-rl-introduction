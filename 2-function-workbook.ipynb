{
 "cells": [
  {
   "cell_type": "markdown",
   "metadata": {
    "slideshow": {
     "slide_type": "slide"
    }
   },
   "source": [
    "# 宿題シート: 関数(function)\n",
    "\n",
    "このファイルの名前を以下のように変更して，締切までに提出しましょう。\n",
    "```\n",
    "2-function<学籍番号>-<名前>.ipynb\n",
    "例) 2-function-16-2202-099-9-YamaguchiDai.ipynb\n",
    "```\n",
    "- 名前は必ず，姓名の順にすること\n",
    "- **ファイル名が不適切な場合は減点**します"
   ]
  },
  {
   "cell_type": "markdown",
   "metadata": {
    "slideshow": {
     "slide_type": "slide"
    }
   },
   "source": [
    "## 課題\n",
    "- 以下の説明文や例文を読みなさい。\n",
    "- 各説明文や例文のあとにあるCodeセルでは以下を実行しなさい。\n",
    "    - **設問(Q)がある場合**にはその解答を書き，実行しなさい。**セル内にヒントがないときにはテキストを参照**しなさい。\n",
    "    - **設問(Q)がない場合**には，例文等をCodeセルで実際に実行して動作を確認しなさい。**例文はそのままコピペせず，少し違う内容に**して試しなさい\n",
    "- なんらかの演算やしたり，命令文作ったときは，その**結果が予想通りか否かを必ず確認しなさい**\n",
    "\n",
    "## そのほか\n",
    "- **設問(Q)があるセルは書き換えない**でください。\n",
    "- 設問がない説明文のセルは，加筆してもいいですが，すでにある内容は消さないでください。\n",
    "- 必要に応じてセルを増やしても構いません。役立ちそうな情報を追記しておくと，今後プログラムを組む上で便利なメモになります。"
   ]
  },
  {
   "cell_type": "markdown",
   "metadata": {
    "slideshow": {
     "slide_type": "slide"
    }
   },
   "source": [
    "# ユーザ定義関数, p.232"
   ]
  },
  {
   "cell_type": "markdown",
   "metadata": {
    "slideshow": {
     "slide_type": "slide"
    }
   },
   "source": [
    "## 関数の定義\n",
    "\n",
    "```python\n",
    "def function_name(args):\n",
    "    命令文\n",
    "    return(..)\n",
    "```\n",
    "例)\n",
    "```python\n",
    "def power(n):\n",
    "    ret=n\n",
    "    if n==0:\n",
    "        ret=1\n",
    "    else:\n",
    "        ret=n*power(n-1)\n",
    "    return(ret)\n",
    "```"
   ]
  },
  {
   "cell_type": "markdown",
   "metadata": {},
   "source": [
    "Q. 上記は何を求めるプログラムか考え，確認しなさい。"
   ]
  },
  {
   "cell_type": "code",
   "execution_count": 30,
   "metadata": {
    "slideshow": {
     "slide_type": "fragment"
    }
   },
   "outputs": [],
   "source": []
  },
  {
   "cell_type": "markdown",
   "metadata": {
    "slideshow": {
     "slide_type": "slide"
    }
   },
   "source": [
    "## 引数\n",
    "\n",
    "注) 関数の引数(仮引数)の値を関数内で変更した場合，引数が**Immutable(変更不可)**な型ならば呼び出した側の引数(実引数)は変化しない(値渡し)。**Mutable(変更可能)**ならば，実引数も変化する(参照渡し)。\n",
    "    - immutable: int, float, str, tuple 等\n",
    "    - mutable: list, dict, set 等(これらについては後述)"
   ]
  },
  {
   "cell_type": "markdown",
   "metadata": {
    "slideshow": {
     "slide_type": "-"
    }
   },
   "source": [
    "Q. 下記のプログラムの実行後，変数stateの値は変化しているだろうか。いいかえると，関数の引数は参照渡しと値渡しのどちらだろうか。\n",
    "\n",
    "```python\n",
    "def new_state(s,a):\n",
    "    if a == \"left\":\n",
    "        s-=1\n",
    "    else:\n",
    "        s-=1\n",
    "    return(s)\n",
    "\n",
    "state=5\n",
    "new_s=new_state(state,\"right\")\n",
    "print(new_s)\n",
    "```"
   ]
  },
  {
   "cell_type": "code",
   "execution_count": 1,
   "metadata": {
    "slideshow": {
     "slide_type": "fragment"
    }
   },
   "outputs": [],
   "source": []
  },
  {
   "cell_type": "markdown",
   "metadata": {
    "slideshow": {
     "slide_type": "slide"
    }
   },
   "source": [
    "## よくあるトラブル\n",
    "標準関数名と同じ名前の関数や変数を作ってしまうと，標準関数にアクセスできなくなるので要注意。\n",
    "\n",
    "関数名の頭に?をつけて，例えば\n",
    "```python\n",
    "?sum\n",
    "```\n",
    "として実行すると，指定した関数の使い方が表示される。動作が怪しいときには，これを使って参照されている関数の確認できる。\n",
    "\n",
    "定義した変数や関数を消去したいときには`del()`を使う"
   ]
  },
  {
   "cell_type": "markdown",
   "metadata": {},
   "source": [
    "Q. Pythonの標準関数に最大値を返す関数`max()`がある\n",
    "1. `max(3,5)`の返り値が5であることを確認しなさい。\n",
    "2. `max=3`を実行した後に `max(3,5)`を実行するとどのようなエラーがでるか確認しなさい。\n",
    "3. `del(max)` を実行して変数maxして標準関数max()を再び使えることを確認しなさい。"
   ]
  },
  {
   "cell_type": "code",
   "execution_count": 32,
   "metadata": {
    "slideshow": {
     "slide_type": "fragment"
    }
   },
   "outputs": [],
   "source": []
  },
  {
   "cell_type": "markdown",
   "metadata": {
    "slideshow": {
     "slide_type": "slide"
    }
   },
   "source": [
    "## 引数のデフォルト値, p.243\n",
    "\n",
    "```python\n",
    "import random as ra\n",
    "\n",
    "def eps_random(epsilon=0.1): # epsilonのデフォルト値は0.1\n",
    "    if ra.random()<epsilon:\n",
    "        ret=True\n",
    "    else:\n",
    "        ret=False\n",
    "    return(ret)\n",
    "```\n",
    "上記の関数eps_random()場合，引数を省略するとepsilon=0.1となる。\n",
    "引数を書いて呼び出すことで，epsilonの値を変えられる。\n",
    "```python\n",
    "eps_random()     # epsilon=0.1\n",
    "eps_random(0.5)  # epsilon=0.5\n",
    "eps_random(epsilon=0.5)   # epsilon=0.5\n",
    "```"
   ]
  },
  {
   "cell_type": "markdown",
   "metadata": {},
   "source": [
    "Q. epsilonの値に応じて`eps_random()`がTrueを返す確率が変わることを確認しなさい。"
   ]
  },
  {
   "cell_type": "code",
   "execution_count": null,
   "metadata": {
    "slideshow": {
     "slide_type": "fragment"
    }
   },
   "outputs": [],
   "source": []
  },
  {
   "cell_type": "markdown",
   "metadata": {
    "slideshow": {
     "slide_type": "slide"
    }
   },
   "source": [
    "## ラムダ式, p. 261\n",
    "\n",
    "1行で関数を定義する!\n",
    "```python\n",
    "avr=lambda x, y: (x+y)/2\n",
    "avr(2,3)\n",
    "```\n",
    "\n",
    "はじめの返り値は条件式がTrueの場合。以下はラムダ式でif文を使った例\n",
    "```python\n",
    "absval = lambda x : x if x>0 else -x\n",
    "```"
   ]
  },
  {
   "cell_type": "markdown",
   "metadata": {},
   "source": [
    "Q. 前問のeps_randomをラムダ式を用いて定義し直し，その動作を確認しなさい。"
   ]
  },
  {
   "cell_type": "code",
   "execution_count": 33,
   "metadata": {
    "slideshow": {
     "slide_type": "fragment"
    }
   },
   "outputs": [],
   "source": []
  },
  {
   "cell_type": "markdown",
   "metadata": {
    "slideshow": {
     "slide_type": "slide"
    }
   },
   "source": [
    "## 複数の返り値をもつ関数\n",
    "```python\n",
    "def interval(mean,sd): # 平均mean, 標準偏差sdから，サンプルの約68%が含まれる区間を出力\n",
    "    return mean-sd, mean+sd\n",
    "```\n",
    "返り値をそれぞれ別の変数で受け取る方法\n",
    "```\n",
    "low,high=interval(70,10)\n",
    "print(low,high)\n",
    "```\n",
    "まとめて受け取ることもできる\n",
    "```\n",
    "ret=interval(70,10)\n",
    "print(ret[0], ret[1])\n",
    "print(type(ret))      # 返り値はタプル(要素の書き換えを出来ないリスト。後述)\n",
    "ret[0]=3              # エラーが出る。タプルの要素書き換え不可\n",
    "```"
   ]
  },
  {
   "cell_type": "markdown",
   "metadata": {
    "slideshow": {
     "slide_type": "-"
    }
   },
   "source": [
    "Q. lambda式で複数の返り値を設定したいときには，()で囲めば良い。上記の関数interval()をlambda式で書き直し，動作確認をしなさい。"
   ]
  },
  {
   "cell_type": "code",
   "execution_count": 34,
   "metadata": {
    "slideshow": {
     "slide_type": "fragment"
    }
   },
   "outputs": [],
   "source": []
  },
  {
   "cell_type": "markdown",
   "metadata": {
    "slideshow": {
     "slide_type": "slide"
    }
   },
   "source": [
    "## 練習問題\n",
    "一列に並んだN個の部屋(s=1,2...,N)があり，その中にねずみ(エージェント)がいる。\n",
    "- いずれかの部屋の中にいるエージェントは行動aとして\"left\"か\"right\"を選ぶことができ，それぞれ1だけ部屋番号が小さい，もしくは大きいほうの隣の部屋に移動する。\n",
    "- 部屋1で\"left\"，もしはく部屋Nで\"right\"を選択すると，エージェントは部屋の外に出てエピソード終了となる。\n",
    "- 部屋Nで行動\"right\"を選択したときのみ，エージェントは報酬(reward)として10を得ることができる。それ以外の場合は報酬rewardは0である。\n",
    "\n",
    "このような環境について，以下の一連の関数を作りなさい。"
   ]
  },
  {
   "cell_type": "markdown",
   "metadata": {},
   "source": [
    "Q1) このような環境における状態遷移を表す，以下のような関数step()を作りなさい。\n",
    "- 引数は現在の状態(部屋番号)sと，選択した行動a\n",
    "- 返り値は，新しい状態s，報酬r, エピソード終了フラグterminalの3つ\n",
    "- エピソード終了フラグterminalの値は，エピソード終了時にTrue, それ以外にはFalse\n",
    "- エピソード終了時の状態ned_sは，0(1の左)もしくはN+1(Nの右)とする。\n",
    "\n",
    "```python\n",
    "N=5 # ここでは部屋数を5としている。\n",
    "def step(s, a):\n",
    "    # ここから作る\n",
    "            \n",
    "    return s, r, terminal\n",
    "```"
   ]
  },
  {
   "cell_type": "code",
   "execution_count": 35,
   "metadata": {
    "slideshow": {
     "slide_type": "fragment"
    }
   },
   "outputs": [],
   "source": []
  },
  {
   "cell_type": "markdown",
   "metadata": {
    "slideshow": {
     "slide_type": "slide"
    }
   },
   "source": [
    "Q2) エージェントがどこにいるかを，以下のように表示する関数`render()`を作りなさい。\n",
    "\n",
    "- 引数\n",
    "    - s: エージェントの状態(部屋番号)\n",
    "    - r: 報酬(デフォルト値0)\n",
    "- 実行内容\n",
    "    - 以下のように，部屋番号とエージェントの位置(@マークで表す)を表示する。\n",
    "    - 右外には報酬値rを表示\n",
    "\n",
    "例) state=2の場合\n",
    "```\n",
    "  |1|@|3|4|5| r=0\n",
    "```\n",
    "例) state=6 (エピソード終了(terminal=True))の場合\n",
    "```\n",
    "  |1|2|3|4|5|@ r=10\n",
    "```"
   ]
  },
  {
   "cell_type": "code",
   "execution_count": 36,
   "metadata": {
    "slideshow": {
     "slide_type": "fragment"
    }
   },
   "outputs": [],
   "source": []
  },
  {
   "cell_type": "markdown",
   "metadata": {
    "slideshow": {
     "slide_type": "slide"
    }
   },
   "source": [
    "Q3) Q1, Q2でつくった関数step(), render()のデバッグのため，以下をみたす関数trial()を作り，step()の動作が適切であるかを確認しなさい。\n",
    "\n",
    "- 引数は，エージェントがとるべき行動aとし，そのデフォルト値は\"right\"とする\n",
    "- a=\"right\"の場合は状態state=1から，action=\"left\"の場合は，状態state=Nから常に同じ行動actionを用いて状態遷移をする\n",
    "- 状態遷移にはQ1で作ったstep()を用いる。\n",
    "- 状態遷移における各ステップの様子はQ2で作った`render(s,r)`を用いて表示する。\n",
    "- 関数の終了は，エピソード終了時\n",
    "\n",
    "実行結果の例)\n",
    "```python\n",
    "   trial()\n",
    "\n",
    "   |@| 2| 3| 4| 5|  r= 0\n",
    "   | 1|@| 3| 4| 5|  r= 0\n",
    "   | 1| 2|@| 4| 5|  r= 0\n",
    "   | 1| 2| 3|@| 5|  r= 0\n",
    "   | 1| 2| 3| 4|@|  r= 0\n",
    "   | 1| 2| 3| 4| 5|@  r= 10\n",
    "```"
   ]
  },
  {
   "cell_type": "code",
   "execution_count": 37,
   "metadata": {
    "slideshow": {
     "slide_type": "fragment"
    }
   },
   "outputs": [],
   "source": []
  },
  {
   "cell_type": "code",
   "execution_count": null,
   "metadata": {},
   "outputs": [],
   "source": []
  }
 ],
 "metadata": {
  "kernelspec": {
   "display_name": "Python 3",
   "language": "python",
   "name": "python3"
  },
  "language_info": {
   "codemirror_mode": {
    "name": "ipython",
    "version": 3
   },
   "file_extension": ".py",
   "mimetype": "text/x-python",
   "name": "python",
   "nbconvert_exporter": "python",
   "pygments_lexer": "ipython3",
   "version": "3.5.2"
  },
  "nbTranslate": {
   "displayLangs": [
    "*"
   ],
   "hotkey": "alt-t",
   "langInMainMenu": true,
   "sourceLang": "en",
   "targetLang": "fr",
   "useGoogleTranslate": true
  },
  "rise": {
   "scroll": true
  },
  "toc": {
   "base_numbering": 1,
   "nav_menu": {},
   "number_sections": true,
   "sideBar": true,
   "skip_h1_title": false,
   "title_cell": "Table of Contents",
   "title_sidebar": "Contents",
   "toc_cell": false,
   "toc_position": {
    "height": "calc(100% - 180px)",
    "left": "10px",
    "top": "150px",
    "width": "187.443px"
   },
   "toc_section_display": true,
   "toc_window_display": false
  }
 },
 "nbformat": 4,
 "nbformat_minor": 2
}
