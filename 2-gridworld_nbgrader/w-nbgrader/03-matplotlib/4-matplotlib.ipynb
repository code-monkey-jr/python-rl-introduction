{
 "cells": [
  {
   "cell_type": "markdown",
   "metadata": {},
   "source": [
    "<div class=\"alert alert-danger\">\n",
    "\n",
    "# 名前欄\n",
    "\n",
    "</div>\n",
    "\n",
    "以下に名前と学籍番号(STUDENT_ID)の入力をして下さい。\n",
    "\n",
    "例)\n",
    "```python\n",
    "FAMILY_NAME = \"Yamaguchi\"   # 姓をローマ字で入力\n",
    "FIRST_NAME = \"Daisuki\"   #  名をローマ字で入力\n",
    "USER = \"a099bc\"          # 大学アカウントのユーザ名\n",
    "STUDENT_ID = \"20-2202-000-0\" # 省略なしで入力\n",
    "```"
   ]
  },
  {
   "cell_type": "code",
   "execution_count": null,
   "metadata": {},
   "outputs": [],
   "source": [
    "FAMILY_NAME = \"\"   # 姓をローマ字で入力\n",
    "FIRST_NAME = \"\"   #  名をローマ字で入力\n",
    "USER = \"\"          # 大学アカウントのユーザ名\n",
    "STUDENT_ID = \"\"  # 12-2202-000-0 等と省略なしで入力"
   ]
  },
  {
   "cell_type": "markdown",
   "metadata": {},
   "source": [
    "<div class=\"alert alert-danger\">\n",
    "\n",
    "# 注意\n",
    "\n",
    "</div>\n",
    "\n",
    "\n",
    "- 以下の説明文を読み， 内容を納得できるように自分で試しなさい。\n",
    "- **「# このセルで試してみよう」**, **「# このセルで動作確認をしよう」**と書かれているセルは自由に使って構いません。\n",
    "- 必要に応じてセルを増やしても構いません。役立ちそうな情報もメモしておくと，今後プログラムを組む上で便利です。\n",
    "- 表題等には適宜教科書のページを書いてあります。詳しい説明は教科書を参照しなさい。\n",
    "\n",
    "<div class=\"alert alert-danger\">\n",
    "\n",
    "## 設問と解答用セル\n",
    "    \n",
    "</div>   \n",
    "\n",
    "\"**Q.**\" から始まる設問に対する解答は必ず入力しなさい。解答用セルには以下のように表示される。\n",
    "\n",
    "```python\n",
    "# YOUR CODE HERE\n",
    "raise NotImplementedError()\n",
    "```\n",
    "\n",
    "**注意**\n",
    "\n",
    "- <span class=\"mark\">raise NotImplementedError()の一行は**必ず消去**して</span>，<span class=\"mark\"># YOUR CODE HERE の下に解答</span>を書くこと。\n",
    "- <span class=\"mark\">\\# YOUR CODE HERE の一行は**消さない**</span>こと。どこに解答を書くべきかがわからなくなることがあります。\n",
    "- なんらかの演算をしたり，命令文を作ったときは，その**結果が予想通りか否かを必ず確認しなさい**\n",
    "\n",
    "<div class=\"alert alert-danger\">\n",
    "\n",
    "## 評価用セル\n",
    "    \n",
    "</div>\n",
    "\n",
    "- **「評価用セル」と書かれているセルは採点のためのセル**です。\n",
    "- **評価用コードが一部表示されている場合，それを実行すると課題の実行結果の確認**をできます。\n",
    "- **表示されていない評価用コードも**あります。\n",
    "\n",
    "<div class=\"alert alert-danger\">\n",
    "\n",
    "## 課題提出前の注意\n",
    "    \n",
    "</div>   \n",
    "\n",
    "**[重要]** 以下の手順で，全ての課題が正常に動作するか確認してから提出しましょう。\n",
    "\n",
    "1.  メニューバーの\"Kernel\"をクリック後，\"Restart\"を選択\n",
    "2. メニューバーの\"Cell\"を，\"Run All\"を選択"
   ]
  },
  {
   "cell_type": "code",
   "execution_count": null,
   "metadata": {
    "deletable": false,
    "editable": false,
    "nbgrader": {
     "cell_type": "code",
     "checksum": "865b3969053facd4e381908e7be8b690",
     "grade": false,
     "grade_id": "cell-971fa2a6a3e085d2",
     "locked": true,
     "schema_version": 3,
     "solution": false,
     "task": false
    }
   },
   "outputs": [],
   "source": [
    "# このセルは自動評価を行うための命令です。内容は無視して，実行(Shift-Enter)のみをしてください。\n",
    "#%%writefile unittests.py\n",
    "#%load unittests.py\n",
    "%run unittests.py"
   ]
  },
  {
   "cell_type": "markdown",
   "metadata": {
    "slideshow": {
     "slide_type": "slide"
    }
   },
   "source": [
    "<div class=\"alert alert-success\">\n",
    "   \n",
    "# matplotlib, p.318\n",
    "\n",
    "</div>"
   ]
  },
  {
   "cell_type": "markdown",
   "metadata": {},
   "source": [
    "Pythonでグラフを描く方法はいろいろあるが，ここではmatplotlibを使った方法を紹介。\n",
    "matplotlibには2種類の使い方がある。一つは**Pyplotインタフェース**，もうひとつは**オブジェクト指向インタフェース**を使う方法。単純なグラフを書くときには前者が便利だが，サブグラフを用意したり，細かい指定をするときには後者が便利。一応両方紹介。\n",
    "\n",
    "まずはmatplotlibモジュールの読み込み。"
   ]
  },
  {
   "cell_type": "code",
   "execution_count": null,
   "metadata": {
    "deletable": false,
    "editable": false,
    "nbgrader": {
     "cell_type": "code",
     "checksum": "bb35f2d8f6a6a63f1f1059a5e1edde19",
     "grade": false,
     "grade_id": "cell-e779fd9f22256dc7",
     "locked": true,
     "schema_version": 3,
     "solution": false,
     "task": false
    }
   },
   "outputs": [],
   "source": [
    "# 1行めは，matplotlibをjupyter notebookで使うための設定\n",
    "%matplotlib inline\n",
    "import matplotlib.pyplot as plt  # matplotlib.pyplotモジュールの読み込み\n",
    "import math as ma"
   ]
  },
  {
   "cell_type": "markdown",
   "metadata": {
    "slideshow": {
     "slide_type": "slide"
    }
   },
   "source": [
    "<div class=\"alert alert-success\">\n",
    "\n",
    "# Pyplot インタフェース\n",
    "  \n",
    "</div>  \n",
    "\n",
    "sin関数とcos関数のグラフを一つのグラフに描いてみる。"
   ]
  },
  {
   "cell_type": "code",
   "execution_count": null,
   "metadata": {
    "slideshow": {
     "slide_type": "slide"
    }
   },
   "outputs": [],
   "source": [
    "# 表示データ生成\n",
    "step = list(range(200))  # データ生成用リスト(200点のデータを使ってグラフを生成する)\n",
    "time = [0.1 * s for s in step]  # t軸データ\n",
    "sint = [ma.sin(t) for t in time]  # y軸データ(リスト)その1(sin関数)\n",
    "cost = [ma.cos(t) for t in time]  # y軸データ(リスト)その2(cos関数)\n",
    "\n",
    "# グラフ描画\n",
    "plt.figure(figsize=(8, 4))  # グラフサイズの指定(横:縦=8:4)\n",
    "plt.plot(time, sint, label=\"sin t\")  # x,y軸データから，グラフオブジェクトplt生成(labelは省略可)\n",
    "plt.plot(time, cost, label=\"cos t\")  # pltにcos関数のグラフも追加\n",
    "\n",
    "# ラベル等の追加\n",
    "plt.xlabel(\"time [s]\")  # pltにx軸ラベル追加\n",
    "plt.ylabel(\"y\")  # pltにy軸ラベル追加\n",
    "plt.legend(loc=\"upper right\")  # pltに凡例(plot()の引数に指定したlabel)を追加\n",
    "\n",
    "# plt.savefig('figure.png')    # グラフを保存したい場合。拡張子に応じてpng,jpg,pdf等の出力可能\n",
    "plt.show()  # グラフオブジェクトpltの描画"
   ]
  },
  {
   "cell_type": "markdown",
   "metadata": {
    "slideshow": {
     "slide_type": "slide"
    }
   },
   "source": [
    "## NumPyモジュール\n",
    "\n",
    "数学関数の描画には，ベクトル・行列演算用の**NumPyモジュール**を使うと便利。NumPyはリストと似ているが数値データの処理に特化したメソッドがいろいろ用意されている。\n",
    "\n",
    "上記プログラム例の，`sint`, `cost`のデータ生成部分は以下のように書き直せる。\n",
    "\n",
    "```python\n",
    "import numpy as np            # numpyモジュール読み込み\n",
    "\n",
    "# 表示データ生成\n",
    "step=0.1\n",
    "time=np.arange(0,20+step,step)  # 0以上20+step未満の数値をstep刻みで生成\n",
    "sint=np.sin(time)             # timeの各要素に対するsin関数の値をリスト化\n",
    "cost=np.cos(time)             # timeの各要素に対するsin関数の値をリスト化\n",
    "\n",
    "# グラフ描画 (ここから下は上のプログラムと同じ)\n",
    "plt.figure(figsize=(8, 4))\n",
    "# 以下省略...\n",
    "```\n",
    "上記プログラムを完成させて，次のセルで試してみなさい。"
   ]
  },
  {
   "cell_type": "code",
   "execution_count": null,
   "metadata": {},
   "outputs": [],
   "source": [
    "# このセルで試してみよう"
   ]
  },
  {
   "cell_type": "markdown",
   "metadata": {},
   "source": [
    "Q.`x=np.arange(0,1,0.1)`は，0以上1**未満**の数を0.1間隔で生成する。実際に実行し，どのようなオプジェクトが生成されたか`print()`文で確認しなさい。"
   ]
  },
  {
   "cell_type": "code",
   "execution_count": null,
   "metadata": {
    "deletable": false,
    "nbgrader": {
     "cell_type": "code",
     "checksum": "2b8eaf7e6097eb328cf93d9a35efc995",
     "grade": false,
     "grade_id": "cell-434b88777753fba1",
     "locked": false,
     "schema_version": 3,
     "solution": true,
     "task": false
    }
   },
   "outputs": [],
   "source": [
    "# YOUR CODE HERE\n",
    "raise NotImplementedError()"
   ]
  },
  {
   "cell_type": "code",
   "execution_count": null,
   "metadata": {
    "deletable": false,
    "editable": false,
    "nbgrader": {
     "cell_type": "code",
     "checksum": "0a63d9b3f65444db03072ff77a85c7bf",
     "grade": true,
     "grade_id": "E-mpl-nparrange",
     "locked": true,
     "points": 1,
     "schema_version": 3,
     "solution": false,
     "task": false
    }
   },
   "outputs": [],
   "source": [
    "# 評価用セル"
   ]
  },
  {
   "cell_type": "markdown",
   "metadata": {},
   "source": [
    "Q. 上記`x`に対し`y=x*x`を実行すると，どのような要素をもつオブジェクト`y`が生成されるか確認しなさい。"
   ]
  },
  {
   "cell_type": "code",
   "execution_count": null,
   "metadata": {
    "deletable": false,
    "nbgrader": {
     "cell_type": "code",
     "checksum": "8c21e2480b4cb6f4f4077ea3df8c8ded",
     "grade": false,
     "grade_id": "cell-2d08f6e9bb344758",
     "locked": false,
     "schema_version": 3,
     "solution": true,
     "task": false
    }
   },
   "outputs": [],
   "source": [
    "# YOUR CODE HERE\n",
    "raise NotImplementedError()"
   ]
  },
  {
   "cell_type": "code",
   "execution_count": null,
   "metadata": {
    "deletable": false,
    "editable": false,
    "nbgrader": {
     "cell_type": "code",
     "checksum": "7618fb9a91a3889f4734bf263b49157a",
     "grade": true,
     "grade_id": "E-mpl-np-squared",
     "locked": true,
     "points": 1,
     "schema_version": 3,
     "solution": false,
     "task": false
    }
   },
   "outputs": [],
   "source": [
    "# 評価用セル"
   ]
  },
  {
   "cell_type": "markdown",
   "metadata": {},
   "source": [
    "Q. 上記`x`に対し`z=1-x`を実行すると，どのような要素をもつオブジェクト`z`が生成されるか確認しなさい。"
   ]
  },
  {
   "cell_type": "code",
   "execution_count": null,
   "metadata": {
    "deletable": false,
    "nbgrader": {
     "cell_type": "code",
     "checksum": "dcc7846f186410bb15a51bd92c479872",
     "grade": false,
     "grade_id": "cell-99b91af0ad019a28",
     "locked": false,
     "schema_version": 3,
     "solution": true,
     "task": false
    }
   },
   "outputs": [],
   "source": [
    "# YOUR CODE HERE\n",
    "raise NotImplementedError()"
   ]
  },
  {
   "cell_type": "code",
   "execution_count": null,
   "metadata": {
    "deletable": false,
    "editable": false,
    "nbgrader": {
     "cell_type": "code",
     "checksum": "c4fbde28357caa36a8134f9919ddfee3",
     "grade": true,
     "grade_id": "E-mpl-np-diff",
     "locked": true,
     "points": 1,
     "schema_version": 3,
     "solution": false,
     "task": false
    }
   },
   "outputs": [],
   "source": [
    "# 評価用セル"
   ]
  },
  {
   "cell_type": "markdown",
   "metadata": {},
   "source": [
    "<div class=\"alert alert-success\">\n",
    "\n",
    "# オブジェクト指向インタフェース\n",
    "\n",
    "</div>\n",
    "\n",
    "## matplotlibの基本概念\n",
    "\n",
    "- Primitives (基本パーツ)\n",
    "    - 線や図形など，描画するオブジェクト。\n",
    "    - 直線オブジェクト(Line2D), テキストオブジェクト(Text)などがある。\n",
    "- [Axis](https://matplotlib.org/api/axis_api.html#matplotlib.axis.Axis) (座標軸オブジェクト)\n",
    "    - ラベルや目盛りなどを要素とするの，座標軸を表現するクラス\n",
    "    - x座標, y座標はそれぞれが別のAxisクラス\n",
    "- [Axes](https://matplotlib.org/api/axes_api.html#matplotlib.axes.Axes) (座標コンテナ)\n",
    "    - 座標軸(Axis)や描画グラフ(Primitives)を要素とするクラス\n",
    "- [Figure](https://matplotlib.org/api/_as_gen/matplotlib.figure.Figure.html#matplotlib.figure.Figure) (図)\n",
    "    - 全ての描画オブジェクトに対して，一番上の階層にあるクラス\n",
    "    - Axesを要素とする。複数のAxesを登録にすれば，複数のグラフをきれいに配置して描画できる。\n",
    "\n",
    "\n",
    "## 例\n",
    "\n",
    "オブジェクト指向型のmatplotlibの使い方で，2つのグラフにsin関数とcos関数を描いてみる。"
   ]
  },
  {
   "cell_type": "code",
   "execution_count": null,
   "metadata": {},
   "outputs": [],
   "source": [
    "# time, sint, costの部分は前述のNumpyを使った方法と同じなので省略(すでに実行済みの場合，再度定義の必要なし)\n",
    "\n",
    "step = 0.1\n",
    "time = np.arange(0, 20 + step, step)  # 0以上20+step未満の数値をstep刻みで生成\n",
    "sint = np.sin(time)  # timeの各要素に対するsin関数の値をリスト化\n",
    "cost = np.cos(time)  # timeの各要素に対するsin関数の値をリスト化\n",
    "\n",
    "fig = plt.figure(figsize=(6, 5))  # Figure(図)を生成(横:縦=6:5)\n",
    "plt.rcParams[\"font.size\"] = 16  # グラフのタイトルなどのフォントの大きさをまとめて16pointに\n",
    "\n",
    "ax1 = fig.add_subplot(211)  # Figureの中に座標(Axes)生成。2行1列に配置した1番目とする\n",
    "ax2 = fig.add_subplot(212)  # 2行1列に配置した2番目のAxes生成\n",
    "\n",
    "ax1.plot(time, sint, label=\"sin t\")  # ax1にsin関数の折れ線グラフを登録(labelは省略可)\n",
    "ax2.plot(time, cost, label=\"cos t\")  # ax2にはcos関数\n",
    "\n",
    "# ax1にラベル等の追加\n",
    "ax1.legend(loc=\"upper right\")  # plot()で指定したlabelを右上に配置\n",
    "ax1.set_title(\"graph example\")  # タイトル\n",
    "ax1.set_xlabel(\"t [s]\")  # x軸ラベル\n",
    "ax1.set_ylabel(\"sin t\")  # y軸ラベル\n",
    "ax1.grid(True)  # 格子を描く\n",
    "ax1.set_xlim(0, 20)  # 描画範囲は[0,5*pi]\n",
    "ax1.set_ylim(-1, 1)  # 描画範囲は[-1,1]\n",
    "\n",
    "\n",
    "# ax2にラベル等の追加\n",
    "ax2.legend(loc=\"upper right\")  # plot()で指定したlabelを右上に配置\n",
    "ax2.set_xlabel(\"t [s]\")  # x軸ラベル\n",
    "ax2.set_ylabel(\"cos t\")  # y軸ラベル\n",
    "ax2.grid(True)  # 格子を描く\n",
    "ax2.set_xlim(0, 20)  # 描画範囲は[0,5*pi]\n",
    "ax2.set_ylim(-1, 1)  # 描画範囲は[-1,1]\n",
    "\n",
    "plt.tight_layout()  # タイトルやラベルが重ならないように配置調整し，生成されているFigureを描画"
   ]
  },
  {
   "cell_type": "markdown",
   "metadata": {},
   "source": [
    "一つのグラフにsinとcosの両方のグラフを描きたい場合は，上記の代わりに以下のようにすれば良い。\n",
    "```python\n",
    "ax=fig.add_subplot(111) # 1行1列に配置したグラフの1番目にAxes(座標)生成\n",
    "\n",
    "ax.plot(time, sint, label=\"sin t\") # axにsin関数の折れ線グラフを登録\n",
    "ax.plot(time, cost, label=\"cos t\") # axにcos関数も登録\n",
    "\n",
    "# 以下同様。ただし，ax1, ax2は使わず，axのみを使う\n",
    "```"
   ]
  },
  {
   "cell_type": "markdown",
   "metadata": {},
   "source": [
    "Q. 上の例を修正して，1つのグラフに以下の2つの曲線を描きなさい。\n",
    "\n",
    "グラフ1\n",
    "- $\\displaystyle y=1-\\frac{x^2}{2!}$を描画\n",
    "- 関数`plot()`の`引数label`には`$1-x^2/2!$`を指定。 (`1-x^2/2`を`$`で囲む。グラフ上の表示には\\$は無くなるはず )\n",
    "- 横軸ラベルは`$x$`\n",
    "- 縦軸ラベルは`$y$`\n",
    "- タイトルは`Fourier series of cos(x)`\n",
    "- $-3\\le x\\le3$,  $-1\\le y\\le1$の範囲で描画\n",
    "\n",
    "グラフ2\n",
    "- $\\displaystyle y=1-\\frac{x^2}{2!}+\\frac{x^4}{4!}$を描画\n",
    "- 関数`plot()`の`引数label`には`$1-x^2/2!+x^4/4!$`を指定。\n",
    "- 軸ラベルは指定なし\n",
    "- 描画範囲指定もなし\n",
    "\n",
    "共通の注意\n",
    "- 横軸データはNumpyを使い，$[-3,3]$の区間を0.1ごとに生成したデータを使うこと(端点(-3.0と3.0)も含むこと)\n",
    "- 格子線も描くこと\n",
    "- fontsizeは見やすい大きさに調整すること\n",
    "- `ax`の名称は変えないこと\n",
    "\n",
    "コメント\n",
    "- ラベルの文字を`$`で囲むのは，数式を適切に表示するための書式(LaTeX形式)"
   ]
  },
  {
   "cell_type": "code",
   "execution_count": null,
   "metadata": {
    "deletable": false,
    "nbgrader": {
     "cell_type": "code",
     "checksum": "a39cf51d1cf890e2ef0da954d1a29c1d",
     "grade": false,
     "grade_id": "cell-d64704a41c62a89b",
     "locked": false,
     "schema_version": 3,
     "solution": true,
     "task": false
    }
   },
   "outputs": [],
   "source": [
    "# YOUR CODE HERE\n",
    "raise NotImplementedError()"
   ]
  },
  {
   "cell_type": "code",
   "execution_count": null,
   "metadata": {
    "deletable": false,
    "editable": false,
    "nbgrader": {
     "cell_type": "code",
     "checksum": "110eab68c64792b7a46666fcb0184bb4",
     "grade": true,
     "grade_id": "E-mpl-label",
     "locked": true,
     "points": 2,
     "schema_version": 3,
     "solution": false,
     "task": false
    },
    "slideshow": {
     "slide_type": "fragment"
    }
   },
   "outputs": [],
   "source": [
    "# 評価用セル(軸ラベル確認)\n"
   ]
  },
  {
   "cell_type": "code",
   "execution_count": null,
   "metadata": {
    "deletable": false,
    "editable": false,
    "nbgrader": {
     "cell_type": "code",
     "checksum": "0d1b9f2c7d63256cf1ef45c74da09fb2",
     "grade": true,
     "grade_id": "E-mpl-data",
     "locked": true,
     "points": 2,
     "schema_version": 3,
     "solution": false,
     "task": false
    },
    "slideshow": {
     "slide_type": "fragment"
    }
   },
   "outputs": [],
   "source": [
    "# 評価用セルその2(描画関数確認)"
   ]
  },
  {
   "cell_type": "code",
   "execution_count": null,
   "metadata": {
    "deletable": false,
    "editable": false,
    "nbgrader": {
     "cell_type": "code",
     "checksum": "c9328fcd3f48c28a26eff3b1ef7d0864",
     "grade": true,
     "grade_id": "E-mpl-title",
     "locked": true,
     "points": 2,
     "schema_version": 3,
     "solution": false,
     "task": false
    }
   },
   "outputs": [],
   "source": [
    "# 評価用セルその3(各曲線ラベル確認)\n",
    "pc = LinePlotChecker(ax)\n",
    "pc.assert_title_equal(\"Fourier series of cos(x)\")\n",
    "pc.assert_labels_equal(['$1-x^2/2!$', '$1-x^2/2!+x^4/4!$'])"
   ]
  },
  {
   "cell_type": "markdown",
   "metadata": {
    "slideshow": {
     "slide_type": "slide"
    }
   },
   "source": [
    "<div class=\"alert alert-success\">\n",
    "\n",
    "# ヒートマップ\n",
    "\n",
    "</div>\n",
    "\n",
    "```python\n",
    "%matplotlib inline\n",
    "import numpy as np\n",
    "from matplotlib import pyplot as plt\n",
    "# ここまでは，すでに実行ずみなら不要\n",
    "\n",
    "data = [[1,2,3,4],\n",
    "        [2,3,4,5],\n",
    "        [3,4,5,6],\n",
    "        [4,5,6,7]]\n",
    "\n",
    "fig=plt.figure(figsize=(6, 5)) # グラフを生成\n",
    "ax=fig.subplots()             # 座標軸を1つ生成してaxに代入\n",
    "# ax.invert_yaxis() # y軸を上下ひっくり返したいとき\n",
    "\n",
    "map=ax.pcolor(data,cmap=\"seismic\") # 数値データからカラーデータを作成 cmapの値により配色変化\n",
    "fig.colorbar(map, ax=ax) # カラーデータと軸データを使ってグラフデータ生成\n",
    "\n",
    "plt.show() # 表示(生成されているグラフデータを画面表示)\n",
    "```\n",
    "- cmap(カラーマップ)の一覧は[こちら](http://pynote.hatenablog.com/entry/seaborn-color-map)にあるので，いろいろと変えてみると楽しい"
   ]
  },
  {
   "cell_type": "markdown",
   "metadata": {},
   "source": [
    "## 軸目盛の間隔\n",
    "x軸やy軸の目盛(tick)の間隔を変更したいときは，リストで指定する。以下は，0から9までの整数値を軸名に指定する場合の例。\n",
    "```python\n",
    "ax.set_xticks([range(0,11,1)])\n",
    "ax.set_yticks([range(0,11,1)])\n",
    "```\n",
    "\n",
    "注) リストではなく，numpy配列でも良い"
   ]
  },
  {
   "cell_type": "markdown",
   "metadata": {},
   "source": [
    "Q. 上記ヒートマップのプログラムを次のセルに入力しなさい。また，`range()`を用いて0から4の配列を生成し，それを変数`tick`に代入しなさい。\n",
    " この変数`tick`を利用し，先述のカラーマップのx軸およびy軸の目盛を1刻みになるよう指定しなさい。\n",
    " \n",
    " 注) 変数`ax`の名前は変えないこと"
   ]
  },
  {
   "cell_type": "code",
   "execution_count": null,
   "metadata": {
    "deletable": false,
    "nbgrader": {
     "cell_type": "code",
     "checksum": "db03153723cdf0d5f16342f3bed39561",
     "grade": false,
     "grade_id": "cell-e4f9dc1a5f670aca",
     "locked": false,
     "schema_version": 3,
     "solution": true,
     "task": false
    }
   },
   "outputs": [],
   "source": [
    "# YOUR CODE HERE\n",
    "raise NotImplementedError()"
   ]
  },
  {
   "cell_type": "code",
   "execution_count": null,
   "metadata": {
    "deletable": false,
    "editable": false,
    "nbgrader": {
     "cell_type": "code",
     "checksum": "45c52b9f14ec455fd3b838e2ee5251a8",
     "grade": true,
     "grade_id": "E-mpl-heatmap",
     "locked": true,
     "points": 2,
     "schema_version": 3,
     "solution": false,
     "task": false
    }
   },
   "outputs": [],
   "source": [
    "#  評価用セル"
   ]
  }
 ],
 "metadata": {
  "kernelspec": {
   "display_name": "Python 3",
   "language": "python",
   "name": "python3"
  },
  "language_info": {
   "codemirror_mode": {
    "name": "ipython",
    "version": 3
   },
   "file_extension": ".py",
   "mimetype": "text/x-python",
   "name": "python",
   "nbconvert_exporter": "python",
   "pygments_lexer": "ipython3",
   "version": "3.6.9"
  },
  "nbTranslate": {
   "displayLangs": [
    "*"
   ],
   "hotkey": "alt-t",
   "langInMainMenu": true,
   "sourceLang": "en",
   "targetLang": "fr",
   "useGoogleTranslate": true
  },
  "toc": {
   "base_numbering": 1,
   "nav_menu": {},
   "number_sections": true,
   "sideBar": true,
   "skip_h1_title": false,
   "title_cell": "Table of Contents",
   "title_sidebar": "Contents",
   "toc_cell": false,
   "toc_position": {},
   "toc_section_display": true,
   "toc_window_display": false
  }
 },
 "nbformat": 4,
 "nbformat_minor": 2
}
