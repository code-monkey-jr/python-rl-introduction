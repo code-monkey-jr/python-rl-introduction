{
 "cells": [
  {
   "cell_type": "markdown",
   "metadata": {},
   "source": [
    "<div class=\"alert alert-danger\">\n",
    "\n",
    "# 名前欄\n",
    "\n",
    "</div>\n",
    "\n",
    "以下に名前と学籍番号(STUDENT_ID)の入力をして下さい。\n",
    "\n",
    "例)\n",
    "```python\n",
    "FAMILY_NAME = \"Yamaguchi\"   # 姓をローマ字で入力\n",
    "FIRST_NAME = \"Daisuki\"   #  名をローマ字で入力\n",
    "USER = \"a099bc\"          # 大学アカウントのユーザ名\n",
    "STUDENT_ID = \"20-2202-000-0\" # 省略なしで入力\n",
    "```"
   ]
  },
  {
   "cell_type": "code",
   "execution_count": null,
   "metadata": {},
   "outputs": [],
   "source": [
    "FAMILY_NAME = \"\"   # 姓をローマ字で入力\n",
    "FIRST_NAME = \"\"   #  名をローマ字で入力\n",
    "USER = \"\"          # 大学アカウントのユーザ名\n",
    "STUDENT_ID = \"\"  # 12-2202-000-0 等と省略なしで入力"
   ]
  },
  {
   "cell_type": "markdown",
   "metadata": {},
   "source": [
    "<div class=\"alert alert-danger\">\n",
    "\n",
    "# 注意\n",
    "\n",
    "</div>\n",
    "\n",
    "\n",
    "- 以下の説明文を読み， 内容を納得できるように自分で試しなさい。\n",
    "- **「# このセルで試してみよう」**, **「# このセルで動作確認をしよう」**と書かれているセルは自由に使って構いません。\n",
    "- 必要に応じてセルを増やしても構いません。役立ちそうな情報もメモしておくと，今後プログラムを組む上で便利です。\n",
    "- 表題等には適宜教科書のページを書いてあります。詳しい説明は教科書を参照しなさい。\n",
    "\n",
    "<div class=\"alert alert-danger\">\n",
    "\n",
    "## 設問と解答用セル\n",
    "    \n",
    "</div>   \n",
    "\n",
    "\"**Q.**\" から始まる設問に対する解答は必ず入力しなさい。解答用セルには以下のように表示される。\n",
    "\n",
    "```python\n",
    "# YOUR CODE HERE\n",
    "raise NotImplementedError()\n",
    "```\n",
    "\n",
    "**注意**\n",
    "\n",
    "- <span class=\"mark\">raise NotImplementedError()の一行は**必ず消去**して</span>，<span class=\"mark\"># YOUR CODE HERE の下に解答</span>を書くこと。\n",
    "- <span class=\"mark\">\\# YOUR CODE HERE の一行は**消さない**</span>こと。どこに解答を書くべきかがわからなくなることがあります。\n",
    "- なんらかの演算をしたり，命令文を作ったときは，その**結果が予想通りか否かを必ず確認しなさい**\n",
    "\n",
    "<div class=\"alert alert-danger\">\n",
    "\n",
    "## 評価用セル\n",
    "    \n",
    "</div>\n",
    "\n",
    "- **「評価用セル」と書かれているセルは採点のためのセル**です。\n",
    "- **評価用コードが一部表示されている場合，それを実行すると課題の実行結果の確認**をできます。\n",
    "- **表示されていない評価用コードも**あります。\n",
    "\n",
    "<div class=\"alert alert-danger\">\n",
    "\n",
    "## 課題提出前の注意\n",
    "    \n",
    "</div>   \n",
    "\n",
    "**[重要]** 以下の手順で，全ての課題が正常に動作するか確認してから提出しましょう。\n",
    "\n",
    "1.  メニューバーの\"Kernel\"をクリック後，\"Restart\"を選択\n",
    "2. メニューバーの\"Cell\"を，\"Run All\"を選択"
   ]
  },
  {
   "cell_type": "markdown",
   "metadata": {},
   "source": [
    "<div class=\"alert alert-success\">\n",
    "\n",
    "# matplotlibの追加情報\n",
    "\n",
    "</div>\n",
    "\n",
    "このシートは採点対象外ですが，レポートを書くのに役に立つかもしれない情報を書いてあります。\n",
    "\n",
    "**注意**:\n",
    "レポート作成に利用するときには以下に注意すること\n",
    "\n",
    "- **各軸にタイトル**をつける\n",
    "- **各軸のスケール(表示範囲)**を，データを見せる上で適切な範囲になるよう設定すること\n",
    "\n",
    "**おまけ**\n",
    "- [matplotlibで指定できるカラー一覧表](https://matplotlib.org/3.1.0/gallery/color/named_colors.html)"
   ]
  },
  {
   "cell_type": "markdown",
   "metadata": {},
   "source": [
    "このシートにある以下のプログラムを動かすには，これまでに作成した以下のクラスや関数が必要です。いずれも課題シートgriwrorld2にあるものです。\n",
    "- `class Qlearner`\n",
    "- `play_env()`\n",
    "- `mean_performance()` : \n",
    "- その他，上記のクラスや関数の実行に必要なもの\n",
    "\n",
    "以下のセルに入力してください。"
   ]
  },
  {
   "cell_type": "code",
   "execution_count": null,
   "metadata": {},
   "outputs": [],
   "source": [
    "# モジュールの読み込み\n",
    "import numpy as np\n",
    "import random as ra\n",
    "import matplotlib.pyplot as plt\n",
    "import gym"
   ]
  },
  {
   "cell_type": "code",
   "execution_count": null,
   "metadata": {
    "deletable": false,
    "nbgrader": {
     "cell_type": "code",
     "checksum": "dbe189f08c011052ef7bb57ee28efadc",
     "grade": false,
     "grade_id": "cell-5ea521eeeb917f61",
     "locked": false,
     "schema_version": 3,
     "solution": true,
     "task": false
    }
   },
   "outputs": [],
   "source": [
    "# このセルに必要なクラスや関数を入力する\n",
    "# YOUR CODE HERE\n",
    "raise NotImplementedError()"
   ]
  },
  {
   "cell_type": "markdown",
   "metadata": {},
   "source": [
    "<div class=\"alert alert-success\">\n",
    "\n",
    "#  様々なパラメータ値に対する学習中のパフォーマンス変化を1つのグラフに表示する\n",
    "\n",
    "</div>\n",
    "\n",
    "## 準備\n",
    "\n",
    "パラメータ$\\epsilon$の様々な値に対する`mean_performance`の返り値を配列化して保存すれば，まとめて1つのグラフに表示できる。\n",
    "\n",
    "以下は，`mean_performance()`の返り値の一つである`score_mean`のみを配列化する例。\n",
    "処理内容は，`mean_performance()`の中で，`play_env()`を何度も実行してその結果を配列化しているのと同様の処理になる。\n",
    "\n",
    "```python\n",
    "env = gym.make(\"MDPGridworld-v1\")\n",
    "action_list = list(range(env.action_space.n))\n",
    "agent = Qlearner(action_list)\n",
    "\n",
    "e_range =   # epsilonの値設定。(例: 0から1の範囲で，0.3刻みの数値を要素とするndarrayを定義する\n",
    "num_e =     # e_rangeの要素数をlen()を使って取得する\n",
    "mean =      # 0行max_episode列の2次元ndarrayを用意する。要素の初期化はしない。\n",
    "\n",
    "for i,e in enumerate(e_range):\n",
    "    agent=Qlearner(action_list, epsilon=e)\n",
    "    \"\"\"\n",
    "    1. エージェントのインスタンスを生成 (例: agent = Qlearner(action_list, epsilon=e))\n",
    "    2. mean_performance()を呼び出して，step_mean, score_mean, step_sd, score_sdを取得する\n",
    "    3. for文の前で定義した配列meanに，新たな行としてscore_meanを追加           \n",
    "    \"\"\"\n",
    "```"
   ]
  },
  {
   "cell_type": "code",
   "execution_count": null,
   "metadata": {
    "deletable": false,
    "nbgrader": {
     "cell_type": "code",
     "checksum": "be06872805d00d7a5a34172229c31a2c",
     "grade": false,
     "grade_id": "cell-26e8b89ce3c7109b",
     "locked": false,
     "schema_version": 3,
     "solution": true,
     "task": false
    }
   },
   "outputs": [],
   "source": [
    "# ここで試してみよう\n",
    "# YOUR CODE HERE\n",
    "raise NotImplementedError()"
   ]
  },
  {
   "cell_type": "markdown",
   "metadata": {},
   "source": [
    "## 複数のデータ表示\n",
    "\n",
    "以下にグラフ化のためのプログラム例と，表示結果の例を示す。\n",
    "![](images/trajectories.png)"
   ]
  },
  {
   "cell_type": "code",
   "execution_count": null,
   "metadata": {},
   "outputs": [],
   "source": [
    "# グラフ化の方法の例。試してみよう。\n",
    "\n",
    "fig = plt.figure(figsize=(12, 4))\n",
    "\n",
    "##### draw by lines\n",
    "ax = fig.add_subplot(121)\n",
    "ax.axhline(y=0, color=\"black\", linewidth=1, linestyle=\"--\")\n",
    "for i in range(len(e_range)):\n",
    "    label = \"$\\epsilon=$\" + e_range[i].astype(\"|U3\") # convert e_range to string (U3: UNICODE 3 chars)\n",
    "    ax.plot(mean[i], label=label)\n",
    "ax.legend()\n",
    "\n",
    "##### draw by points\n",
    "ax2 = fig.add_subplot(122)\n",
    "for i in range(len(e_range)):\n",
    "    label = \"$\\epsilon=$\" + e_range[i].astype(\"|U3\") # convert e_range to string (U3: UNICODE 3 chars)\n",
    "    ax2.plot(mean[i], marker=\".\", linestyle=\"\", label=label)\n",
    "ax2.axhline(y=0, color=\"black\", linewidth=1, linestyle=\"--\")\n",
    "ax2.legend()"
   ]
  },
  {
   "cell_type": "markdown",
   "metadata": {},
   "source": [
    "<div class=\"alert alert-success\">\n",
    "\n",
    "\n",
    "# 平均値と標準偏差をグラフにする\n",
    "\n",
    "</div>\n",
    "\n",
    "前述のグラフはパフォーマンスの時間変化を捉えるのに便利だが，確率的な変動があるデータの比較を定量的は難しいことが多い。\n",
    "より厳密にパフォーマンスを定量的比較するためには，以下のように**平均値と標準偏差に基づくグラフや箱ひげ図を作成して比較**する。"
   ]
  },
  {
   "cell_type": "markdown",
   "metadata": {},
   "source": [
    "## 様々なパラメータ値に対して，指定したエピソード回数の学習後のパフォーマンスをndarrayの形式で取得する方法\n",
    "\n",
    "以下は，パラメータ$\\epsilon$のいくつかの値それぞれに対し`mean_performance()`の返り値を取得し，そのうち，`score_mean`と`score_sd`の最終エピソードの時点の値のみを`ndarray`にまとめるプログラム例。これを用いて平均値と標準偏差のグラフを作る。\n",
    "\n",
    "```python\n",
    "env = gym.make(\"MDPGridworld-v1\")\n",
    "action_list = list(range(env.action_space.n))\n",
    "agent = Qlearner(action_list)\n",
    "\n",
    "e_range =  # 複数のepsilonの値を格納するndarrayを定義。(例: [0,1.0]の範囲で，0.3刻みの数値を要素とするndarrayを定義)\n",
    "mean =     # 要素数がlen(e_range)のndarrayを用意する。要素の初期化はしない\n",
    "sd =       # 同上\n",
    "\n",
    "for i,e in enumerate(e_range):\n",
    "    agent=Qlearner(action_list, epsilon=e)\n",
    "    \"\"\"\n",
    "    1. エージェントのインスタンスを生成 (例: agent = Qlearner(action_list, epsilon=e))\n",
    "    2. mean_performance()を呼び出して，score_mean, score_sd などの返り値を取得する\n",
    "    3. mean[i]に配列score_meanの最後の要素を格納\n",
    "    4. sd[i]に配列score_sdの最後の要素を格納   \n",
    "    \"\"\"\n",
    "```"
   ]
  },
  {
   "cell_type": "code",
   "execution_count": null,
   "metadata": {
    "deletable": false,
    "nbgrader": {
     "cell_type": "code",
     "checksum": "eb8e8123f775120ba26bc68274b1a71e",
     "grade": false,
     "grade_id": "cell-a79bf8c8a2528770",
     "locked": false,
     "schema_version": 3,
     "solution": true,
     "task": false
    }
   },
   "outputs": [],
   "source": [
    "# ここで作ってみよう\n",
    "# YOUR CODE HERE\n",
    "raise NotImplementedError()"
   ]
  },
  {
   "cell_type": "markdown",
   "metadata": {},
   "source": [
    "## 棒グラフ\n",
    "\n",
    "仮に，`e_range = np.arange(0.0, 1.0, 0.3)`と設定して`以下のようなデータを取得したとして，グラフ表示例を示す。"
   ]
  },
  {
   "cell_type": "code",
   "execution_count": null,
   "metadata": {},
   "outputs": [],
   "source": [
    "# 上述のプログラムを作成して自分のデータを作った人は，このセルの内容は消すか，コメント行にしてください。\n",
    "e_range = np.arange(0.0, 1.0, 0.3)\n",
    "mean = np.array([10, 30, 20, 50])\n",
    "sd = np.array([3, 10, 10, 5])"
   ]
  },
  {
   "cell_type": "code",
   "execution_count": null,
   "metadata": {},
   "outputs": [],
   "source": [
    "# グラフの作成例。実行してみよう。\n",
    "fig = plt.figure(figsize=(15, 3))\n",
    "n_graph = len(e_range)\n",
    "\n",
    "####### bar graph (version 1)\n",
    "ax = fig.add_subplot(131)\n",
    "ax.bar(\n",
    "    range(n_graph),  # put bars on x=0,1,..,n_graph-1\n",
    "    mean,\n",
    "    yerr=sd,  # error bar\n",
    "    error_kw=dict(lw=1, capthick=1, capsize=10),  # cap style of error bar\n",
    "    tick_label=e_range.astype(\"|U3\"),  # convert e_range to string( U3: UNICODE 3 chars)\n",
    ")\n",
    "\n",
    "####### bar graph (version 2)\n",
    "ax2 = fig.add_subplot(132)\n",
    "ax2.bar(\n",
    "    e_range,  # put bars at (x in e_range)\n",
    "    mean,\n",
    "    width=0.1,\n",
    "    color=\"orange\",\n",
    "    yerr=sd,  # error bar\n",
    "    error_kw=dict(lw=1, capthick=1, capsize=5),  # cap style of error bar\n",
    ")\n",
    "ax2.set_xticks(e_range)\n",
    "\n",
    "\n",
    "####### combine two bars\n",
    "ax3 = fig.add_subplot(133)\n",
    "width = 0.4  # width of a bar\n",
    "ax3.bar(\n",
    "    np.arange(n_graph),  # put bars on x=0,1,..,n_graph\n",
    "    mean,\n",
    "    width=width,\n",
    "    color=\"coral\",\n",
    "    tick_label=e_range.astype(\"|U3\"),  # convert e_range to string( U3: UNICODE 3 chars)\n",
    "    yerr=sd,  # error bar\n",
    "    error_kw=dict(lw=1, capthick=1, capsize=10),  # cap style of error bar\n",
    "    label=\"Q-learner\",\n",
    ")\n",
    "ax3.bar(\n",
    "    np.arange(n_graph) + width,  # put bars on x=0.2,1.1,...,n_graph\n",
    "    mean,\n",
    "    width=width,\n",
    "    color=\"royalblue\",\n",
    "    yerr=sd,  # error bar\n",
    "    error_kw=dict(lw=1, capthick=1, capsize=10),  # cap style of error bar\n",
    "    label=\"SARSA-learner\",\n",
    ")\n",
    "ax3.set_xticks(np.arange(n_graph) + width / 2)\n",
    "ax3.legend()"
   ]
  },
  {
   "cell_type": "markdown",
   "metadata": {},
   "source": [
    "## 折れ線グラフ\n",
    "\n",
    "以下は，上記の棒グラフは用いないで，折れ線グラフや，平均値と標準偏差のみを表示する例。"
   ]
  },
  {
   "cell_type": "code",
   "execution_count": null,
   "metadata": {},
   "outputs": [],
   "source": [
    "# グラフの作成例。実行してみよう。\n",
    "\n",
    "fig = plt.figure(figsize=(10, 3))\n",
    "n_graph = len(e_range)\n",
    "\n",
    "#######\n",
    "ax1 = fig.add_subplot(121)\n",
    "ax1.set_xlim([-0.1, 1])\n",
    "ax1.errorbar(e_range, mean, yerr=sd, capsize=4, marker=\".\", markersize=10)\n",
    "ax1.set_xticks(e_range)\n",
    "\n",
    "#######\n",
    "ax2 = fig.add_subplot(122)\n",
    "ax2.set_xlim([-0.1, 1])\n",
    "ax2.errorbar(\n",
    "    e_range,\n",
    "    mean,\n",
    "    yerr=sd,\n",
    "    capsize=6,\n",
    "    linestyle=\"\", # without lines\n",
    "    marker=\"o\",\n",
    "    markersize=8,\n",
    "    color=\"green\",\n",
    ")\n",
    "ax2.set_xticks(e_range)"
   ]
  },
  {
   "cell_type": "markdown",
   "metadata": {},
   "source": [
    "<div class=\"alert alert-success\">\n",
    "\n",
    "\n",
    "# 箱ひげ図(boxplot)\n",
    "\n",
    "</div>\n",
    "\n",
    "正規分布をしているデータに対しては平均値と標準偏差を示すグラフは有用だが，実際のデータは歪な分布になっていることも多い。\n",
    "そのような場合には，実際のデータの分布をより表現できる**箱ひげ図(boxplot)**がしばしば使われる。"
   ]
  },
  {
   "cell_type": "markdown",
   "metadata": {},
   "source": [
    "## データの準備\n",
    "\n",
    "**1.** `mean_performance()`の修正版`mean_performance2()`を準備\n",
    "\n",
    "関数`mean_performance()`では，`play_env()`を指定回数(`n_trial`)を実行し，その返り値である`history_score`を全て格納する`n_trial`行`max_episode`列の配列を作っているはずである。この配列から平均値は求めず，その最後の列(最終エピソード)のデータ(`n_trial`行1列)を返り値(`score`)とする`mean_performance2()`を作る。\n",
    "\n",
    "**2.** 以下を実行\n",
    "\n",
    "```python\n",
    "env = gym.make(\"MDPGridworld-v1\")\n",
    "action_list = list(range(env.action_space.n))\n",
    "agent = Qlearner(action_list)\n",
    "\n",
    "e_range =  # 複数のepsilonの値を格納するndarrayを定義。(例: [0,1.0]の範囲で，0.3刻みの数値を要素とするndarrayを定義)\n",
    "data =     # 0行n_trial列の2次元配列(ndarray)を用意する。\n",
    "\n",
    "for i,e in enumerate(e_range):\n",
    "    agent=Qlearner(action_list, epsilon=e)\n",
    "    \"\"\"\n",
    "    1. エージェントのインスタンスを生成 (例: agent = Qlearner(action_list, epsilon=e))\n",
    "    2. mean_performance2()を呼び出して，score等の返り値を取得する\n",
    "    3. 返り値scoreを1行n_trial列に変形して，配列dataに追加\n",
    "    \"\"\"\n",
    "```"
   ]
  },
  {
   "cell_type": "code",
   "execution_count": null,
   "metadata": {
    "deletable": false,
    "nbgrader": {
     "cell_type": "code",
     "checksum": "e2dd87e7bfa73b69dbcdb1bd3f43a16f",
     "grade": false,
     "grade_id": "cell-7918160c40d9546f",
     "locked": false,
     "schema_version": 3,
     "solution": true,
     "task": false
    }
   },
   "outputs": [],
   "source": [
    "# ここで作ってみよう\n",
    "# YOUR CODE HERE\n",
    "raise NotImplementedError()"
   ]
  },
  {
   "cell_type": "markdown",
   "metadata": {},
   "source": [
    "上記のプログラムにより以下のデータを取得したとする。"
   ]
  },
  {
   "cell_type": "code",
   "execution_count": null,
   "metadata": {},
   "outputs": [],
   "source": [
    "# 上記のプログラムを作成して自分のデータを作った人は，このセルの内容は消すか，コメント行にしてください。\n",
    "\n",
    "data = np.array(\n",
    "    [\n",
    "        [58, 58, 58, 58, 58, 58, 58, 58, 58, 58],\n",
    "        [10, 37, -187, 19, -151, 13, -166, 22, -136, 25],\n",
    "        [-217, -190, -307, -148, -223, -17, -35, -145, -232, 22],\n",
    "        [-275, -281, -178, -110, -11, -158, -208, -223, -265, -172],\n",
    "    ]\n",
    ")"
   ]
  },
  {
   "cell_type": "markdown",
   "metadata": {},
   "source": [
    "## 箱ひげ図\n",
    "箱ひげ図では，第1四分位点から第3四分位点を箱で囲み，また，平均値の代わりに中央値を線で示す。以下はプログラム例"
   ]
  },
  {
   "cell_type": "code",
   "execution_count": null,
   "metadata": {},
   "outputs": [],
   "source": [
    "# グラフの作成例。実行してみよう。\n",
    "\n",
    "fig = plt.figure(figsize=(10, 3))\n",
    "\n",
    "#### boxplot\n",
    "ax = fig.add_subplot(121)\n",
    "ax.axhline(y=0, color=\"black\", linewidth=1, linestyle=\"--\")\n",
    "ax.set_xticklabels(e_range.astype(\"|U3\"))\n",
    "bp = ax.boxplot(tuple(data))\n",
    "\n",
    "##### boxplot with data points\n",
    "ax2 = fig.add_subplot(122)\n",
    "for i in range(len(e_range)):\n",
    "    ax2.boxplot(tuple(data))\n",
    "    ax2.plot(\n",
    "        np.arange(1, len(e_range) + 1), data, marker=\".\", linestyle=\"\", color=\"black\"\n",
    "    )\n",
    "\n",
    "ax2.axhline(y=0, color=\"black\", linewidth=1, linestyle=\"--\")\n",
    "ax2.set_xticklabels(e_range.astype(\"|U3\"))"
   ]
  },
  {
   "cell_type": "markdown",
   "metadata": {},
   "source": [
    "## 箱ひげ図(seabornモジュール)\n",
    "\n",
    "**seabornモジュール**を使うと，以下のようにカラフルな図をかんたんに作れる。\n",
    "- 同じ値のデータが複数ある場合に，そのデータ点を横に並べてプロットする(**jitter plot**)こともできる。\n",
    "- データ点の分布に応じて，箱ひげ図の箱を変形させたようなバイオリンプロットの例も示す。(中央値や平均値を明示しない限り，レポートには用いないこと)\n",
    "- [Plotting with categorical data](https://seaborn.pydata.org/tutorial/categorical.html#categorical-tutorial)"
   ]
  },
  {
   "cell_type": "code",
   "execution_count": null,
   "metadata": {},
   "outputs": [],
   "source": [
    "# グラフの作成例。実行してみよう。\n",
    "\n",
    "fig = plt.figure(figsize=(16, 4))\n",
    "\n",
    "##### boxplot using seaborn\n",
    "import seaborn as sns\n",
    "\n",
    "ax1 = fig.add_subplot(131)\n",
    "ax1.axhline(y=0, color=\"black\", linewidth=1, linestyle=\"--\")\n",
    "for i in range(len(e_range)):\n",
    "    sns.boxplot(data=data.transpose(), showfliers=True, ax=ax1)\n",
    "ax1.set_xticklabels(e_range.astype(\"|U3\"))\n",
    "\n",
    "##### boxplot with data points using seaborn\n",
    "import seaborn as sns\n",
    "\n",
    "ax2 = fig.add_subplot(132)\n",
    "ax2.axhline(y=0, color=\"black\", linewidth=1, linestyle=\"--\")\n",
    "for i in range(len(e_range)):\n",
    "    sns.boxplot(data=data.transpose(), showfliers=True, ax=ax2)  # show boxplot\n",
    "    sns.stripplot(\n",
    "        data=data.transpose(), jitter=True, color=\"black\", ax=ax2\n",
    "    )  # show data points\n",
    "ax2.set_xticklabels(e_range.astype(\"|U3\"))\n",
    "\n",
    "\n",
    "##### boxplot with data points using seaborn\n",
    "import seaborn as sns\n",
    "\n",
    "ax3 = fig.add_subplot(133)\n",
    "ax3.axhline(y=0, color=\"black\", linewidth=1, linestyle=\"--\")\n",
    "for i in range(len(e_range)):\n",
    "    sns.violinplot(\n",
    "        data=data.transpose(), showmedians=True, inner=\"quartile\", ax=ax3\n",
    "    )  # show boxplot\n",
    "    sns.stripplot(\n",
    "        data=data.transpose(), jitter=True, color=\"black\", ax=ax3\n",
    "    )  # show data points\n",
    "ax3.set_xticklabels(e_range.astype(\"|U3\"))"
   ]
  },
  {
   "cell_type": "markdown",
   "metadata": {},
   "source": [
    "<div class=\"alert alert-success\">\n",
    "\n",
    "# ヒートマップ\n",
    "\n",
    "</div>\n",
    "\n",
    "## 複数のパラメータを組み合わせて変化させ，パフォーマンスの比較をしたい場合\n",
    "\n",
    "以下は，$\\epsilon$と$\\gamma$の値の組み合わせをいろいろ変えて，その結果を比較するためのプログラム例。\n",
    "\n",
    "```python\n",
    "env = gym.make(\"MDPGridworld-v1\")\n",
    "agent = Qlearner(action_list)\n",
    "\n",
    "e_range =   # epsilonの値設定。例) 0から1の範囲で，0.3刻みの数値を要素とするndarrayを定義\n",
    "r_range =   # gammaの値設定。例) 0から1の範囲で，0.2刻みの数値を要素とするndarrayを定義\n",
    "num_e =     # e_rangeの要素数をlen()を使って取得する\n",
    "num_r =     # r_rangeの要素数をlen()を使って取得する\n",
    "label_e=\"$\\epsilon$\" # 座標軸のタイトルを設定\n",
    "label_r=\"$\\gamma$\"   # 同上\n",
    "\n",
    "mean =  # 要素数(num_e,num_r)の2次元のndarrayを用意する。要素の初期化はしない\n",
    "\n",
    "for i,e in enumerate(e_range):\n",
    "    for j, r in enumerate(r_range):\n",
    "        agent=Qlearner(action_list, epsilon=e, gamma=r)\n",
    "        \"\"\"\n",
    "        この部分の処理内容は，棒グラフの準備のためのプログラム例とほぼ同じ\n",
    "        mean[i,j]=  # score(平均値)の最後の値を代入\n",
    "        \"\"\"\n",
    "```"
   ]
  },
  {
   "cell_type": "code",
   "execution_count": null,
   "metadata": {
    "deletable": false,
    "nbgrader": {
     "cell_type": "code",
     "checksum": "403d631cb2a285c577c8b22bf217bdbd",
     "grade": false,
     "grade_id": "cell-0ef72e746e7e6eda",
     "locked": false,
     "schema_version": 3,
     "solution": true,
     "task": false
    }
   },
   "outputs": [],
   "source": [
    "# ここで試してみよう\n",
    "# YOUR CODE HERE\n",
    "raise NotImplementedError()"
   ]
  },
  {
   "cell_type": "markdown",
   "metadata": {},
   "source": [
    "## ヒートマップ\n",
    "\n",
    "パラメータ$\\epsilon$, $\\gamma$の値を様々に変えて得た結果一覧(mean)を可視化する例\n",
    "\n",
    "仮に，\n",
    "```python\n",
    "e_range = np.arange(0.0, 1.0, 0.3)\n",
    "r_range = np.arange(0.0, 1.0, 0.2)\n",
    "```\n",
    "と設定し，各パラメータの組み合わせに対して`mean_performance()`を実行した結果，以下のデータを取得できたとする。(`last_step` もしくは `last_score`を`mean`という変数名に変更したとする)"
   ]
  },
  {
   "cell_type": "code",
   "execution_count": null,
   "metadata": {},
   "outputs": [],
   "source": [
    "# 前述のプログラムを作成して自分のデータを作った人は，このセルの内容は消すか，コメント行にしてください。\n",
    "mean = np.array([[1, 2, 3, 4, 5], [2, 3, 4, 5, 6], [3, 4, 5, 6, 7], [4, 5, 6, 7, 8]])"
   ]
  },
  {
   "cell_type": "markdown",
   "metadata": {},
   "source": [
    "例えば，以下のプログラム例でヒートマップを作って可視化できる。\n",
    "\n",
    "- **注意**) 利用するときには，$\\epsilon$, $\\gamma$の**各変数がそれぞれ縦軸と横軸のどちらと対応しているか**を，よく確認すること。"
   ]
  },
  {
   "cell_type": "code",
   "execution_count": null,
   "metadata": {},
   "outputs": [],
   "source": [
    "# グラフの作成例。実行してみよう。\n",
    "\n",
    "fig = plt.figure(figsize=(6, 4))  # Figure(図)を生成\n",
    "ax = fig.subplots()  # Axes(座標)を1つ生成してaxに代入\n",
    "# ax.invert_yaxis()  # y軸を上下ひっくり返したいとき\n",
    "\n",
    "map = ax.pcolor(mean, cmap=\"seismic\")  # 数値データからカラーデータを作成 cmapの値により配色変化\n",
    "# map=ax.pcolor(data,cmap=\"seismic\", vmin=0, vmax=10) # カラーバーの表示範囲を指定したいときはvmin, vmaxを使う\n",
    "\n",
    "ax.set_xticks(np.arange(len(r_range)) + 0.5)\n",
    "ax.set_yticks(np.arange(len(e_range)) + 0.5)\n",
    "ax.set_xticklabels(r_range.astype(\"|U3\"), minor=False)\n",
    "ax.set_yticklabels(e_range.astype(\"|U3\"), minor=False)\n",
    "ax.set_xlabel(label_r)\n",
    "ax.set_ylabel(label_e)\n",
    "\n",
    "\n",
    "fig.colorbar(map, ax=ax)  # カラーデータと軸データを使ってグラフデータ生成\n",
    "\n",
    "# plt.show() # 表示(生成されているグラフデータを画面表示)"
   ]
  },
  {
   "cell_type": "markdown",
   "metadata": {},
   "source": [
    "<div class=\"alert alert-success\">\n",
    "\n",
    "# 以下には，自由にセルを作成して，いろいろと動作確認して構いません。\n",
    "\n",
    "</div>"
   ]
  },
  {
   "cell_type": "code",
   "execution_count": null,
   "metadata": {},
   "outputs": [],
   "source": []
  }
 ],
 "metadata": {
  "kernelspec": {
   "display_name": "Python 3",
   "language": "python",
   "name": "python3"
  },
  "language_info": {
   "codemirror_mode": {
    "name": "ipython",
    "version": 3
   },
   "file_extension": ".py",
   "mimetype": "text/x-python",
   "name": "python",
   "nbconvert_exporter": "python",
   "pygments_lexer": "ipython3",
   "version": "3.6.8"
  },
  "nbTranslate": {
   "displayLangs": [
    "*"
   ],
   "hotkey": "alt-t",
   "langInMainMenu": true,
   "sourceLang": "en",
   "targetLang": "fr",
   "useGoogleTranslate": true
  },
  "toc": {
   "base_numbering": 1,
   "nav_menu": {},
   "number_sections": true,
   "sideBar": true,
   "skip_h1_title": false,
   "title_cell": "Table of Contents",
   "title_sidebar": "Contents",
   "toc_cell": false,
   "toc_position": {
    "height": "calc(100% - 180px)",
    "left": "10px",
    "top": "150px",
    "width": "205px"
   },
   "toc_section_display": true,
   "toc_window_display": true
  }
 },
 "nbformat": 4,
 "nbformat_minor": 2
}
