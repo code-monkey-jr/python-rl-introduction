{
 "cells": [
  {
   "cell_type": "markdown",
   "metadata": {},
   "source": [
    "<div class=\"alert alert-danger\">\n",
    "\n",
    "# 名前欄\n",
    "\n",
    "</div>\n",
    "\n",
    "以下に名前と学籍番号(STUDENT_ID)の入力をして下さい。\n",
    "\n",
    "例)\n",
    "```python\n",
    "FAMILY_NAME = \"Yamaguchi\"   # 姓をローマ字で入力\n",
    "FIRST_NAME = \"Daisuki\"   #  名をローマ字で入力\n",
    "USER = \"a099bc\"          # 大学アカウントのユーザ名\n",
    "STUDENT_ID = \"20-2202-000-0\" # 省略なしで入力\n",
    "```"
   ]
  },
  {
   "cell_type": "code",
   "execution_count": null,
   "metadata": {},
   "outputs": [],
   "source": [
    "FAMILY_NAME = \"\"   # 姓をローマ字で入力\n",
    "FIRST_NAME = \"\"   #  名をローマ字で入力\n",
    "USER = \"\"          # 大学アカウントのユーザ名\n",
    "STUDENT_ID = \"\"  # 12-2202-000-0 等と省略なしで入力"
   ]
  },
  {
   "cell_type": "markdown",
   "metadata": {},
   "source": [
    "<div class=\"alert alert-danger\">\n",
    "\n",
    "# 注意\n",
    "\n",
    "</div>\n",
    "\n",
    "\n",
    "- 以下の説明文を読み， 内容を納得できるように自分で試しなさい。\n",
    "- **「# このセルで試してみよう」**, **「# このセルで動作確認をしよう」**と書かれているセルは自由に使って構いません。\n",
    "- 必要に応じてセルを増やしても構いません。役立ちそうな情報もメモしておくと，今後プログラムを組む上で便利です。\n",
    "- 表題等には適宜教科書のページを書いてあります。詳しい説明は教科書を参照しなさい。\n",
    "\n",
    "<div class=\"alert alert-danger\">\n",
    "\n",
    "## 設問と解答用セル\n",
    "    \n",
    "</div>   \n",
    "\n",
    "\"**Q.**\" から始まる設問に対する解答は必ず入力しなさい。解答用セルには以下のように表示される。\n",
    "\n",
    "```python\n",
    "# YOUR CODE HERE\n",
    "raise NotImplementedError()\n",
    "```\n",
    "\n",
    "**注意**\n",
    "\n",
    "- <span class=\"mark\">raise NotImplementedError()の一行は**必ず消去**して</span>，<span class=\"mark\"># YOUR CODE HERE の下に解答</span>を書くこと。\n",
    "- <span class=\"mark\">\\# YOUR CODE HERE の一行は**消さない**</span>こと。どこに解答を書くべきかがわからなくなることがあります。\n",
    "- なんらかの演算をしたり，命令文を作ったときは，その**結果が予想通りか否かを必ず確認しなさい**\n",
    "\n",
    "<div class=\"alert alert-danger\">\n",
    "\n",
    "## 評価用セル\n",
    "    \n",
    "</div>\n",
    "\n",
    "- **「評価用セル」と書かれているセルは採点のためのセル**です。\n",
    "- **評価用コードが一部表示されている場合，それを実行すると課題の実行結果の確認**をできます。\n",
    "- **表示されていない評価用コードも**あります。\n",
    "\n",
    "<div class=\"alert alert-danger\">\n",
    "\n",
    "## 課題提出前の注意\n",
    "    \n",
    "</div>   \n",
    "\n",
    "**[重要]** 以下の手順で，全ての課題が正常に動作するか確認してから提出しましょう。\n",
    "\n",
    "1.  メニューバーの\"Kernel\"をクリック後，\"Restart\"を選択\n",
    "2. メニューバーの\"Cell\"を，\"Run All\"を選択"
   ]
  },
  {
   "cell_type": "code",
   "execution_count": null,
   "metadata": {},
   "outputs": [],
   "source": [
    "# このセルは自動評価を行うための命令です。内容は無視して，実行(Shift-Enter)のみをしてください。\n",
    "#%%writefile unittests.py\n",
    "#%load unittests.py\n",
    "%run unittests.py"
   ]
  },
  {
   "cell_type": "markdown",
   "metadata": {},
   "source": [
    "<div class=\"alert alert-success\">\n",
    "\n",
    "# 第二回レポート課題\n",
    "\n",
    "</div>\n",
    "\n",
    "\n",
    "第二回レポート課題の提出物等は，以下の通りです。\n",
    "\n",
    "1. **プログラムの提出** : このシートを利用します。\n",
    "2. **レポートの提出**: 詳細はelearningのページを見てください。\n",
    "3. **レポートの相互採点**: 後日演習時に説明します。\n",
    "\n",
    "**[重要]**\n",
    "- レポート提出は**単位取得の必須条件**です。\n",
    "- レポートの詳細は別紙参照"
   ]
  },
  {
   "cell_type": "code",
   "execution_count": null,
   "metadata": {},
   "outputs": [],
   "source": [
    "# このセルでは，実行に必要なモジュールの読み込みを行う。\n",
    "# ここに書かれているもの以外に必要なものがあれば，適宜追加すること。\n",
    "import numpy as np\n",
    "import random as ra\n",
    "import matplotlib.pyplot as plt\n",
    "\n",
    "import gym"
   ]
  },
  {
   "cell_type": "markdown",
   "metadata": {},
   "source": [
    "<div class=\"alert alert-success\">\n",
    "\n",
    "# MDPGridworld-v3\n",
    "\n",
    "</div>\n",
    "\n",
    "これまでの`MDPGridworld-v1`の環境に，プチご褒美を一つがおいてあるのがv3です。"
   ]
  },
  {
   "cell_type": "code",
   "execution_count": null,
   "metadata": {},
   "outputs": [],
   "source": [
    "import gym\n",
    "\n",
    "env = gym.make(\"MDPGridworld-v3\")\n",
    "env.show_info()"
   ]
  },
  {
   "cell_type": "markdown",
   "metadata": {},
   "source": [
    "上の図のように，`C`と書かれているケーキがあります。\n",
    "ここに来ると美味しいケーキがあるので，5点もらえて，そこでエピソード終了になります。"
   ]
  },
  {
   "cell_type": "markdown",
   "metadata": {},
   "source": [
    "## プログラム提出について\n",
    "\n",
    "- `MDPGridworld-v3`に対して作成した，最もパフォーマンスの良い学習エージェントのクラスを，以下の指示に従ってこのシートに入力・提出してください。\n",
    "- `MDPGridworld-v3`の**スタート位置やゴール位置，障害物等の配置は，評価時には若干変更**する場合があります。\n",
    "- 入力したクラスの動作確認は，下の方で自由にできるコーナーがあります。"
   ]
  },
  {
   "cell_type": "markdown",
   "metadata": {},
   "source": [
    "## 準備\n",
    "\n",
    "次のセルでは，モジュールや`MDPGridworld-v3`の読み込みと，評価に使うためのプログラムの定義をしています。\n",
    "\n",
    "- **randomモジュール**はここで読み込んでいます。学習エージェントのクラス定義に必要な場合は，モジュール名`ra`でアクセスしてください。\n",
    "- `MDPGridworld-v3`のインスタンス変数`env`の定義もしてあります。\n",
    "- **`action_list`の定義**もあります。これも必要に応じてクラス定義に使いましょう。"
   ]
  },
  {
   "cell_type": "code",
   "execution_count": null,
   "metadata": {},
   "outputs": [],
   "source": [
    "import numpy as np\n",
    "import random as ra\n",
    "import matplotlib.pyplot as plt\n",
    "\n",
    "import gym\n",
    "\n",
    "env = gym.make(\"MDPGridworld-v3\")\n",
    "action_list = list(range(env.action_space.n))"
   ]
  },
  {
   "cell_type": "markdown",
   "metadata": {},
   "source": [
    "## プログラム提出セル\n",
    "\n",
    "**課題** 次のセルに**学習エージェントのクラス定義**を記入してください。\n",
    "\n",
    "- クラス名は，これまでと同様に`Qlearner`や`SARSAlearner`としても，他の名前でも良いです。\n",
    "- 学習エージェントクラスの実行に必要な関数等も，必要に応じて定義して構いません。\n",
    "- 学習エージェントクラスの仕様は， 課題シート`class`に説明されていた`Qlearner`や`SARSAlearner`と**同様のインスタンス・メソッド(名称や引数)**を持つものとします。ただし，処理内容は各自変更しても構いません。\n",
    "- 課題シート`class`に説明されていたもの以外のインスタンス・メソッドを追加で用意するのは構いません。しかし，引数と返り値が異なると**性能評価ができない**場合があります。その場合の**評点は0点**になります。気をつけてください。"
   ]
  },
  {
   "cell_type": "code",
   "execution_count": null,
   "metadata": {
    "deletable": false,
    "nbgrader": {
     "cell_type": "code",
     "checksum": "8107c334e0112e41318e3214a26e5dbe",
     "grade": false,
     "grade_id": "cell-9228b5089530fd22",
     "locked": false,
     "schema_version": 3,
     "solution": true,
     "task": false
    }
   },
   "outputs": [],
   "source": [
    "# このセルに学習エージェントのクラス定義を入力する\n",
    "# YOUR CODE HERE\n",
    "raise NotImplementedError()"
   ]
  },
  {
   "cell_type": "markdown",
   "metadata": {},
   "source": [
    "## インスタンス生成\n",
    "\n",
    "上のセルで定義した学習エージェクトクラスのインスタンスを以下の例のように生成してください。\n",
    "```python\n",
    "agent = Qlearner(action_list)\n",
    "```\n",
    "- 右辺のクラス名は，自分の定義したクラスに応じて変更すること。\n",
    "- 必要に応じて，`action_list`の他にも引数を指定してください。"
   ]
  },
  {
   "cell_type": "code",
   "execution_count": null,
   "metadata": {
    "deletable": false,
    "nbgrader": {
     "cell_type": "code",
     "checksum": "e2821c4735b53c90c1ce93f52dea980f",
     "grade": false,
     "grade_id": "cell-20f0bfad919dc0c1",
     "locked": false,
     "schema_version": 3,
     "solution": true,
     "task": false
    }
   },
   "outputs": [],
   "source": [
    "# このセルで，インスタンスagentを生成\n",
    "# YOUR CODE HERE\n",
    "raise NotImplementedError()"
   ]
  },
  {
   "cell_type": "markdown",
   "metadata": {},
   "source": [
    "## 動作確認\n",
    "\n",
    "- 次のセルでは，前セルで定義した`agent`の動作確認のため，`MDPGridworld-v3`環境での学習を3エピソードのみ実行します。\n",
    "- 実行時にエラーがでたら，前のセルでのインスタンス`agent`の定義か，学習エージェントのクラス定義に問題があります。必ず修正してください。\n",
    "- **実行時にエラーがでたら採点対象外**になります。"
   ]
  },
  {
   "cell_type": "code",
   "execution_count": null,
   "metadata": {
    "deletable": false,
    "editable": false,
    "nbgrader": {
     "cell_type": "code",
     "checksum": "14d1cbd8033f78a3d86df24a1721c82f",
     "grade": true,
     "grade_id": "cell-e5bc6f7757026974",
     "locked": true,
     "points": 0,
     "schema_version": 3,
     "solution": false,
     "task": false
    }
   },
   "outputs": [],
   "source": [
    "# 動作確認用セル\n",
    "def test_run(env, agent, max_episode):\n",
    "\n",
    "    for n_episode in range(max_episode):\n",
    "        score = 0\n",
    "        s = env.reset()\n",
    "        for t in range(env.spec.max_episode_steps):\n",
    "            s_old = s\n",
    "            action = agent.get_action(s)\n",
    "            s, r, terminal, _ = env.step(action)\n",
    "            score += r\n",
    "            agent.learning(s_old, action, r, s, terminal)\n",
    "\n",
    "        print(\"[Episode %d] score=%d, step=%d\" % (n_episode, score, t + 1))\n",
    "\n",
    "\n",
    "env = gym.make(\"MDPGridworld-v3\")\n",
    "test_run(env, agent=agent, max_episode=3)\n",
    "agent.reset()\n",
    "eq_(agent.Q, {})"
   ]
  },
  {
   "cell_type": "code",
   "execution_count": null,
   "metadata": {
    "deletable": false,
    "editable": false,
    "nbgrader": {
     "cell_type": "code",
     "checksum": "bfcbf1512f2418228798958294d9005f",
     "grade": true,
     "grade_id": "cell-3c18b9034ad46a08",
     "locked": true,
     "points": 0,
     "schema_version": 3,
     "solution": false,
     "task": false
    }
   },
   "outputs": [],
   "source": [
    "# 評価の準備セル(無視してください)"
   ]
  },
  {
   "cell_type": "code",
   "execution_count": null,
   "metadata": {
    "deletable": false,
    "editable": false,
    "nbgrader": {
     "cell_type": "code",
     "checksum": "04cb83aa3bf8f054c3f23840266a5c72",
     "grade": true,
     "grade_id": "E-report1-evaluation",
     "locked": true,
     "points": 10,
     "schema_version": 3,
     "solution": false,
     "task": false
    }
   },
   "outputs": [],
   "source": [
    "# 評価用セル"
   ]
  },
  {
   "cell_type": "code",
   "execution_count": null,
   "metadata": {
    "deletable": false,
    "editable": false,
    "nbgrader": {
     "cell_type": "code",
     "checksum": "fb52807389526df03cda2f7809f177ca",
     "grade": false,
     "grade_id": "cell-151802224674f2f1",
     "locked": true,
     "schema_version": 3,
     "solution": false,
     "task": false
    }
   },
   "outputs": [],
   "source": [
    "# このセルは，自動採点の際に以降のセルを実行しないための命令です。無視してください。\n",
    "raise SystemExit(\"Stop right here!\")"
   ]
  },
  {
   "cell_type": "markdown",
   "metadata": {},
   "source": [
    "<div class=\"alert alert-success\">\n",
    "    \n",
    "# ここから下には，自由にセルを作成して，いろいろと動作確認して構いません。\n",
    "\n",
    "</div>"
   ]
  },
  {
   "cell_type": "code",
   "execution_count": null,
   "metadata": {},
   "outputs": [],
   "source": []
  }
 ],
 "metadata": {
  "kernelspec": {
   "display_name": "Python 3",
   "language": "python",
   "name": "python3"
  },
  "language_info": {
   "codemirror_mode": {
    "name": "ipython",
    "version": 3
   },
   "file_extension": ".py",
   "mimetype": "text/x-python",
   "name": "python",
   "nbconvert_exporter": "python",
   "pygments_lexer": "ipython3",
   "version": "3.6.8"
  },
  "nbTranslate": {
   "displayLangs": [
    "*"
   ],
   "hotkey": "alt-t",
   "langInMainMenu": true,
   "sourceLang": "en",
   "targetLang": "fr",
   "useGoogleTranslate": true
  },
  "toc": {
   "base_numbering": 1,
   "nav_menu": {},
   "number_sections": true,
   "sideBar": true,
   "skip_h1_title": false,
   "title_cell": "Table of Contents",
   "title_sidebar": "Contents",
   "toc_cell": false,
   "toc_position": {
    "height": "calc(100% - 180px)",
    "left": "10px",
    "top": "150px",
    "width": "205px"
   },
   "toc_section_display": true,
   "toc_window_display": false
  }
 },
 "nbformat": 4,
 "nbformat_minor": 2
}
