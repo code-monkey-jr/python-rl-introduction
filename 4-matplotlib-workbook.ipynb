{
 "cells": [
  {
   "cell_type": "markdown",
   "metadata": {
    "slideshow": {
     "slide_type": "slide"
    }
   },
   "source": [
    "# 宿題シート: matplotlib\n",
    "\n",
    "このシートは提出の必要はありませんが，**内容を理解しておくことは，今後の宿題のために必要**です。必ず自分で一通り試してみてください。"
   ]
  },
  {
   "cell_type": "markdown",
   "metadata": {
    "slideshow": {
     "slide_type": "slide"
    }
   },
   "source": [
    "# Matplotlib"
   ]
  },
  {
   "cell_type": "markdown",
   "metadata": {
    "slideshow": {
     "slide_type": "slide"
    }
   },
   "source": [
    "## 基本的なグラフ, p.318\n",
    "\n",
    "```python\n",
    "import matplotlib.pyplot as plt  # matplotlib.pyplotモジュールの読み込み\n",
    "import math as ma\n",
    "\n",
    "time=list(range(200))               # x軸データ(リスト)\n",
    "sint=[ma.sin(0.1*t) for t in time]  # y軸データ(リスト)その1(sin関数)\n",
    "cost=[ma.cos(0.1*t) for t in time]  # y軸データ(リスト)その2(cos関数)\n",
    "\n",
    "plt.figure(figsize=(8, 4))          # グラフサイズの指定(省略可)\n",
    "\n",
    "plt.plot(time, sint, label=\"sin t\") # x,y軸データから，グラフオブジェクトplt生成(labelは省略可)\n",
    "plt.plot(time, cost, label=\"cos t\") # ついでに，pltにcos関数のグラフも追加\n",
    "\n",
    "# ラベル等の追加\n",
    "plt.xlabel(\"time [s]\")              # pltにx軸ラベル追加\n",
    "plt.ylabel(\"y\")                     # pltにy軸ラベル追加\n",
    "plt.legend(loc=\"upper right\")       # pltに凡例(plot()の引数に指定したlabel)を追加\n",
    "\n",
    "# plt.savefig('figure.png')    # グラフを保存したい場合。拡張子に応じてpng,jpg,pdf等の出力可能\n",
    "plt.show()                     # グラフオブジェクトpltの描画\n",
    "```"
   ]
  },
  {
   "cell_type": "code",
   "execution_count": 12,
   "metadata": {
    "slideshow": {
     "slide_type": "fragment"
    }
   },
   "outputs": [],
   "source": []
  },
  {
   "cell_type": "markdown",
   "metadata": {
    "slideshow": {
     "slide_type": "slide"
    }
   },
   "source": [
    "## 数学関数の描画にはNumPyモジュールを使うと便利\n",
    "\n",
    "**NumPyモジュール**\n",
    "- ベクトル・行列演算モジュール\n",
    "- リストと似ているが，NumPyモジュールは数値データの処理に特化\n",
    "\n",
    "```python\n",
    "import matplotlib.pyplot as plt\n",
    "import numpy as np            # numpyモジュール読み込み\n",
    "\n",
    "time=np.arange(0.0,20.0,0.1)  # 0から20までを0.1刻みでリスト化\n",
    "sint=np.sin(time)             # timeの各要素に対するsin関数の値をリスト化\n",
    "plt.plot(time, sint, label=\"sin t\")\n",
    "\n",
    "plt.xlabel(\"time [s]\")\n",
    "plt.ylabel(\"y\")\n",
    "plt.legend(loc=\"upper right\")\n",
    "\n",
    "plt.show() \n",
    "```"
   ]
  },
  {
   "cell_type": "code",
   "execution_count": 13,
   "metadata": {
    "slideshow": {
     "slide_type": "fragment"
    }
   },
   "outputs": [],
   "source": []
  },
  {
   "cell_type": "markdown",
   "metadata": {
    "slideshow": {
     "slide_type": "slide"
    }
   },
   "source": [
    "## ヒートマップ\n",
    "```python\n",
    "%matplotlib inline\n",
    "import numpy as np\n",
    "from matplotlib import pyplot as plt\n",
    "\n",
    "data = [[1,2,3,4],\n",
    "        [2,3,4,5],\n",
    "        [3,4,5,6]]\n",
    "\n",
    "# 画像化メソッドimshow()を使って，pltに画像化オブジェクトを追加\n",
    "plt.imshow(data, aspect=\"auto\") # aspect比は\"equal\", 1.0 等指定できる\n",
    "plt.colorbar()\n",
    "plt.show()\n",
    "```"
   ]
  },
  {
   "cell_type": "code",
   "execution_count": 14,
   "metadata": {
    "slideshow": {
     "slide_type": "fragment"
    }
   },
   "outputs": [],
   "source": []
  },
  {
   "cell_type": "markdown",
   "metadata": {
    "slideshow": {
     "slide_type": "slide"
    }
   },
   "source": [
    "# 3次元グラフ\n",
    "```python\n",
    "# jupyter notebook上のグラフをマウス操作できるようにしたい場合は以下の1行のコメントをはずす\n",
    "# %matplotlib notebook\n",
    "# このコマンドは， matplotlibモジュールのに見込み前に実行する必要がある\n",
    "# その後2次元プロットをする場合には， jupyter notebookのkernelの再起動をしないと表示がおかしくなることがあるので注意\n",
    "\n",
    "from mpl_toolkits.mplot3d import Axes3D  # 3次元描画用モジュール\n",
    "import matplotlib.pyplot as plt\n",
    "import numpy as np\n",
    "\n",
    "x=np.arange(0.0,10.0,0.1)  # x軸の刻み\n",
    "y=np.arange(0.0,10.0,0.1)  # y軸の刻み\n",
    "X,Y=np.meshgrid(x,y)    # 2次元メッシュ生成\n",
    "Z=np.sin(X)*np.sin(Y)\n",
    "\n",
    "fig=plt.figure()   # グラフオブジェクト(描画はまだなし)を生成\n",
    "ax=Axes3D(fig)     # 3次元オブジェクト化\n",
    "ax.plot_wireframe(X,Y,Z) # 3次元グラフ生成\n",
    "\n",
    "plt.show()          # axではなく，pltのメソッドで表示。この仕様はわかりにくい。。。\n",
    "\n",
    "# 表示される画像が小さいときにはダブルクリックしてみる\n",
    "# %matplotlib notebook を実行していた場合は，マウスで向きも変えられる\n",
    "# 描画終了時にはグラフ右上の電源ポタンを押すこと!\n",
    "```"
   ]
  },
  {
   "cell_type": "code",
   "execution_count": 1,
   "metadata": {
    "slideshow": {
     "slide_type": "fragment"
    }
   },
   "outputs": [],
   "source": []
  },
  {
   "cell_type": "code",
   "execution_count": null,
   "metadata": {},
   "outputs": [],
   "source": []
  },
  {
   "cell_type": "markdown",
   "metadata": {},
   "source": [
    "## 参考URL\n",
    "\n",
    "### 3Dグラフ\n",
    "\n",
    "- [Three-Dimensional Plotting in Matplotlib\n",
    "](https://jakevdp.github.io/PythonDataScienceHandbook/04.12-three-dimensional-plotting.html)\n",
    "- [matplotlib: mplot3d tutorial](https://matplotlib.org/mpl_toolkits/mplot3d/tutorial.html)"
   ]
  },
  {
   "cell_type": "code",
   "execution_count": null,
   "metadata": {},
   "outputs": [],
   "source": []
  }
 ],
 "metadata": {
  "kernelspec": {
   "display_name": "Python 3",
   "language": "python",
   "name": "python3"
  },
  "language_info": {
   "codemirror_mode": {
    "name": "ipython",
    "version": 3
   },
   "file_extension": ".py",
   "mimetype": "text/x-python",
   "name": "python",
   "nbconvert_exporter": "python",
   "pygments_lexer": "ipython3",
   "version": "3.5.2"
  },
  "nbTranslate": {
   "displayLangs": [
    "*"
   ],
   "hotkey": "alt-t",
   "langInMainMenu": true,
   "sourceLang": "en",
   "targetLang": "fr",
   "useGoogleTranslate": true
  },
  "toc": {
   "base_numbering": 1,
   "nav_menu": {},
   "number_sections": true,
   "sideBar": true,
   "skip_h1_title": false,
   "title_cell": "Table of Contents",
   "title_sidebar": "Contents",
   "toc_cell": false,
   "toc_position": {},
   "toc_section_display": true,
   "toc_window_display": false
  }
 },
 "nbformat": 4,
 "nbformat_minor": 2
}
